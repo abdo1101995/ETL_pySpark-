{
 "cells": [
  {
   "cell_type": "markdown",
   "metadata": {
    "editable": true
   },
   "source": [
    "# Project Title\n",
    "\n",
    "\n",
    "#### Project Summary\n",
    "\n",
    "\n",
    "The project follows the follow steps:\n",
    "* Step 1: Scope the Project and Gather Data\n",
    "* Step 2: Explore and Assess the Data\n",
    "* Step 3: Define the Data Model\n",
    "* Step 4: Run ETL to Model the Data\n",
    "* Step 5: Complete Project Write Up"
   ]
  },
  {
   "cell_type": "code",
   "execution_count": 1,
   "metadata": {
    "editable": true
   },
   "outputs": [],
   "source": [
    "# Do all imports and installs here\n",
    "import pandas as pd\n",
    "from pyspark.sql.functions import isnan, when, count, col ,udf\n",
    "import datetime as dt\n",
    "import os\n",
    "import configparser\n",
    "from boto.s3.connection import S3Connection\n",
    "import os\n",
    "\n",
    "from pyspark.sql.types import StringType , IntegerType, TimestampType, DateType,DoubleType\n",
    "\n",
    "from pyspark.sql.types import StructType, StructField\n"
   ]
  },
  {
   "cell_type": "code",
   "execution_count": 4,
   "metadata": {
    "editable": true
   },
   "outputs": [],
   "source": [
    "#spark version\n",
    "os.environ[\"JAVA_HOME\"] = \"/usr/lib/jvm/java-8-openjdk-amd64\"\n",
    "os.environ[\"PATH\"] = \"/opt/conda/bin:/opt/spark-2.4.3-bin-hadoop2.7/bin:/opt/conda/bin:/usr/local/sbin:/usr/local/bin:/usr/sbin:/usr/bin:/sbin:/bin:/usr/lib/jvm/java-8-openjdk-amd64/bin\"\n",
    "os.environ[\"SPARK_HOME\"] = \"/opt/spark-2.4.3-bin-hadoop2.7\"\n",
    "os.environ[\"HADOOP_HOME\"] = \"/opt/spark-2.4.3-bin-hadoop2.7\""
   ]
  },
  {
   "cell_type": "code",
   "execution_count": 5,
   "metadata": {
    "editable": true
   },
   "outputs": [],
   "source": [
    "#read acess and secert_key\n",
    "config = configparser.ConfigParser()\n",
    "config.read('dl.cfg')\n",
    "AWS_ACCESS_KEY_ID = config['AWS']['AWS_ACCESS_KEY_ID']\n",
    "AWS_SECRET_ACCESS_KEY = config['AWS']['AWS_SECRET_ACCESS_KEY']\n",
    "os.environ['AWS_ACCESS_KEY_ID'] =  config['AWS']['AWS_ACCESS_KEY_ID']\n",
    "os.environ['AWS_SECRET_ACCESS_KEY'] = config['AWS']['AWS_SECRET_ACCESS_KEY']"
   ]
  },
  {
   "cell_type": "markdown",
   "metadata": {
    "editable": true
   },
   "source": [
    "### Step 1: Scope the Project and Gather Data\n",
    "\n",
    "#### Scope \n",
    "in This Data Engineering Project I will Extract more than data source and ETL by Making Data Modelling and put final table in\n",
    "destination place\n",
    "I used pandas to read handle small datasets and pyspark for large datasets\n",
    "I used S3 storage to save all tables \n",
    "\n",
    "\n",
    "#### Describe and Gather Data \n",
    "\n",
    "I94 Immigration Data: This data comes from the US National Tourism and Trade Office. A data dictionary is included in the workspace. \n",
    "\n",
    "World Temperature Data: This dataset came from Kaggle.\n",
    "\n",
    "U.S. City Demographic Data: This data comes from OpenSoft.\n",
    "\n",
    "Airport Code Table: This is a simple table of airport codes and corresponding cities.\n",
    "\n"
   ]
  },
  {
   "cell_type": "code",
   "execution_count": 52,
   "metadata": {
    "editable": true
   },
   "outputs": [],
   "source": [
    "# Read in the data here\n",
    "df=pd.read_csv('immigration_data_sample.csv',index_col=0).reset_index()"
   ]
  },
  {
   "cell_type": "code",
   "execution_count": 53,
   "metadata": {
    "editable": true
   },
   "outputs": [
    {
     "data": {
      "text/html": [
       "<div>\n",
       "<style scoped>\n",
       "    .dataframe tbody tr th:only-of-type {\n",
       "        vertical-align: middle;\n",
       "    }\n",
       "\n",
       "    .dataframe tbody tr th {\n",
       "        vertical-align: top;\n",
       "    }\n",
       "\n",
       "    .dataframe thead th {\n",
       "        text-align: right;\n",
       "    }\n",
       "</style>\n",
       "<table border=\"1\" class=\"dataframe\">\n",
       "  <thead>\n",
       "    <tr style=\"text-align: right;\">\n",
       "      <th></th>\n",
       "      <th>cicid</th>\n",
       "      <th>i94yr</th>\n",
       "      <th>i94mon</th>\n",
       "      <th>i94cit</th>\n",
       "      <th>i94res</th>\n",
       "      <th>i94port</th>\n",
       "      <th>arrdate</th>\n",
       "      <th>i94mode</th>\n",
       "      <th>i94addr</th>\n",
       "      <th>depdate</th>\n",
       "      <th>...</th>\n",
       "      <th>entdepu</th>\n",
       "      <th>matflag</th>\n",
       "      <th>biryear</th>\n",
       "      <th>dtaddto</th>\n",
       "      <th>gender</th>\n",
       "      <th>insnum</th>\n",
       "      <th>airline</th>\n",
       "      <th>admnum</th>\n",
       "      <th>fltno</th>\n",
       "      <th>visatype</th>\n",
       "    </tr>\n",
       "  </thead>\n",
       "  <tbody>\n",
       "    <tr>\n",
       "      <th>0</th>\n",
       "      <td>4084316.0</td>\n",
       "      <td>2016.0</td>\n",
       "      <td>4.0</td>\n",
       "      <td>209.0</td>\n",
       "      <td>209.0</td>\n",
       "      <td>HHW</td>\n",
       "      <td>20566.0</td>\n",
       "      <td>1.0</td>\n",
       "      <td>HI</td>\n",
       "      <td>20573.0</td>\n",
       "      <td>...</td>\n",
       "      <td>NaN</td>\n",
       "      <td>M</td>\n",
       "      <td>1955.0</td>\n",
       "      <td>07202016</td>\n",
       "      <td>F</td>\n",
       "      <td>NaN</td>\n",
       "      <td>JL</td>\n",
       "      <td>5.658267e+10</td>\n",
       "      <td>00782</td>\n",
       "      <td>WT</td>\n",
       "    </tr>\n",
       "    <tr>\n",
       "      <th>1</th>\n",
       "      <td>4422636.0</td>\n",
       "      <td>2016.0</td>\n",
       "      <td>4.0</td>\n",
       "      <td>582.0</td>\n",
       "      <td>582.0</td>\n",
       "      <td>MCA</td>\n",
       "      <td>20567.0</td>\n",
       "      <td>1.0</td>\n",
       "      <td>TX</td>\n",
       "      <td>20568.0</td>\n",
       "      <td>...</td>\n",
       "      <td>NaN</td>\n",
       "      <td>M</td>\n",
       "      <td>1990.0</td>\n",
       "      <td>10222016</td>\n",
       "      <td>M</td>\n",
       "      <td>NaN</td>\n",
       "      <td>*GA</td>\n",
       "      <td>9.436200e+10</td>\n",
       "      <td>XBLNG</td>\n",
       "      <td>B2</td>\n",
       "    </tr>\n",
       "    <tr>\n",
       "      <th>2</th>\n",
       "      <td>1195600.0</td>\n",
       "      <td>2016.0</td>\n",
       "      <td>4.0</td>\n",
       "      <td>148.0</td>\n",
       "      <td>112.0</td>\n",
       "      <td>OGG</td>\n",
       "      <td>20551.0</td>\n",
       "      <td>1.0</td>\n",
       "      <td>FL</td>\n",
       "      <td>20571.0</td>\n",
       "      <td>...</td>\n",
       "      <td>NaN</td>\n",
       "      <td>M</td>\n",
       "      <td>1940.0</td>\n",
       "      <td>07052016</td>\n",
       "      <td>M</td>\n",
       "      <td>NaN</td>\n",
       "      <td>LH</td>\n",
       "      <td>5.578047e+10</td>\n",
       "      <td>00464</td>\n",
       "      <td>WT</td>\n",
       "    </tr>\n",
       "    <tr>\n",
       "      <th>3</th>\n",
       "      <td>5291768.0</td>\n",
       "      <td>2016.0</td>\n",
       "      <td>4.0</td>\n",
       "      <td>297.0</td>\n",
       "      <td>297.0</td>\n",
       "      <td>LOS</td>\n",
       "      <td>20572.0</td>\n",
       "      <td>1.0</td>\n",
       "      <td>CA</td>\n",
       "      <td>20581.0</td>\n",
       "      <td>...</td>\n",
       "      <td>NaN</td>\n",
       "      <td>M</td>\n",
       "      <td>1991.0</td>\n",
       "      <td>10272016</td>\n",
       "      <td>M</td>\n",
       "      <td>NaN</td>\n",
       "      <td>QR</td>\n",
       "      <td>9.478970e+10</td>\n",
       "      <td>00739</td>\n",
       "      <td>B2</td>\n",
       "    </tr>\n",
       "    <tr>\n",
       "      <th>4</th>\n",
       "      <td>985523.0</td>\n",
       "      <td>2016.0</td>\n",
       "      <td>4.0</td>\n",
       "      <td>111.0</td>\n",
       "      <td>111.0</td>\n",
       "      <td>CHM</td>\n",
       "      <td>20550.0</td>\n",
       "      <td>3.0</td>\n",
       "      <td>NY</td>\n",
       "      <td>20553.0</td>\n",
       "      <td>...</td>\n",
       "      <td>NaN</td>\n",
       "      <td>M</td>\n",
       "      <td>1997.0</td>\n",
       "      <td>07042016</td>\n",
       "      <td>F</td>\n",
       "      <td>NaN</td>\n",
       "      <td>NaN</td>\n",
       "      <td>4.232257e+10</td>\n",
       "      <td>LAND</td>\n",
       "      <td>WT</td>\n",
       "    </tr>\n",
       "  </tbody>\n",
       "</table>\n",
       "<p>5 rows × 28 columns</p>\n",
       "</div>"
      ],
      "text/plain": [
       "       cicid   i94yr  i94mon  i94cit  i94res i94port  arrdate  i94mode  \\\n",
       "0  4084316.0  2016.0     4.0   209.0   209.0     HHW  20566.0      1.0   \n",
       "1  4422636.0  2016.0     4.0   582.0   582.0     MCA  20567.0      1.0   \n",
       "2  1195600.0  2016.0     4.0   148.0   112.0     OGG  20551.0      1.0   \n",
       "3  5291768.0  2016.0     4.0   297.0   297.0     LOS  20572.0      1.0   \n",
       "4   985523.0  2016.0     4.0   111.0   111.0     CHM  20550.0      3.0   \n",
       "\n",
       "  i94addr  depdate   ...     entdepu  matflag  biryear   dtaddto gender  \\\n",
       "0      HI  20573.0   ...         NaN        M   1955.0  07202016      F   \n",
       "1      TX  20568.0   ...         NaN        M   1990.0  10222016      M   \n",
       "2      FL  20571.0   ...         NaN        M   1940.0  07052016      M   \n",
       "3      CA  20581.0   ...         NaN        M   1991.0  10272016      M   \n",
       "4      NY  20553.0   ...         NaN        M   1997.0  07042016      F   \n",
       "\n",
       "  insnum airline        admnum  fltno visatype  \n",
       "0    NaN      JL  5.658267e+10  00782       WT  \n",
       "1    NaN     *GA  9.436200e+10  XBLNG       B2  \n",
       "2    NaN      LH  5.578047e+10  00464       WT  \n",
       "3    NaN      QR  9.478970e+10  00739       B2  \n",
       "4    NaN     NaN  4.232257e+10   LAND       WT  \n",
       "\n",
       "[5 rows x 28 columns]"
      ]
     },
     "execution_count": 53,
     "metadata": {},
     "output_type": "execute_result"
    }
   ],
   "source": [
    "df=df.drop(columns=[\"index\"])\n",
    "\n",
    "df.head()"
   ]
  },
  {
   "cell_type": "code",
   "execution_count": 54,
   "metadata": {
    "editable": true
   },
   "outputs": [
    {
     "name": "stdout",
     "output_type": "stream",
     "text": [
      "<class 'pandas.core.frame.DataFrame'>\n",
      "RangeIndex: 1000 entries, 0 to 999\n",
      "Data columns (total 28 columns):\n",
      "cicid       1000 non-null float64\n",
      "i94yr       1000 non-null float64\n",
      "i94mon      1000 non-null float64\n",
      "i94cit      1000 non-null float64\n",
      "i94res      1000 non-null float64\n",
      "i94port     1000 non-null object\n",
      "arrdate     1000 non-null float64\n",
      "i94mode     1000 non-null float64\n",
      "i94addr     941 non-null object\n",
      "depdate     951 non-null float64\n",
      "i94bir      1000 non-null float64\n",
      "i94visa     1000 non-null float64\n",
      "count       1000 non-null float64\n",
      "dtadfile    1000 non-null int64\n",
      "visapost    382 non-null object\n",
      "occup       4 non-null object\n",
      "entdepa     1000 non-null object\n",
      "entdepd     954 non-null object\n",
      "entdepu     0 non-null float64\n",
      "matflag     954 non-null object\n",
      "biryear     1000 non-null float64\n",
      "dtaddto     1000 non-null object\n",
      "gender      859 non-null object\n",
      "insnum      35 non-null float64\n",
      "airline     967 non-null object\n",
      "admnum      1000 non-null float64\n",
      "fltno       992 non-null object\n",
      "visatype    1000 non-null object\n",
      "dtypes: float64(15), int64(1), object(12)\n",
      "memory usage: 218.8+ KB\n"
     ]
    }
   ],
   "source": [
    "#Know all details about data\n",
    "df.info()"
   ]
  },
  {
   "cell_type": "code",
   "execution_count": 55,
   "metadata": {
    "editable": true
   },
   "outputs": [
    {
     "data": {
      "text/html": [
       "<div>\n",
       "<style scoped>\n",
       "    .dataframe tbody tr th:only-of-type {\n",
       "        vertical-align: middle;\n",
       "    }\n",
       "\n",
       "    .dataframe tbody tr th {\n",
       "        vertical-align: top;\n",
       "    }\n",
       "\n",
       "    .dataframe thead th {\n",
       "        text-align: right;\n",
       "    }\n",
       "</style>\n",
       "<table border=\"1\" class=\"dataframe\">\n",
       "  <thead>\n",
       "    <tr style=\"text-align: right;\">\n",
       "      <th></th>\n",
       "      <th>Columns</th>\n",
       "      <th>Counts</th>\n",
       "    </tr>\n",
       "  </thead>\n",
       "  <tbody>\n",
       "    <tr>\n",
       "      <th>14</th>\n",
       "      <td>visapost</td>\n",
       "      <td>618</td>\n",
       "    </tr>\n",
       "    <tr>\n",
       "      <th>15</th>\n",
       "      <td>occup</td>\n",
       "      <td>996</td>\n",
       "    </tr>\n",
       "    <tr>\n",
       "      <th>18</th>\n",
       "      <td>entdepu</td>\n",
       "      <td>1000</td>\n",
       "    </tr>\n",
       "    <tr>\n",
       "      <th>23</th>\n",
       "      <td>insnum</td>\n",
       "      <td>965</td>\n",
       "    </tr>\n",
       "  </tbody>\n",
       "</table>\n",
       "</div>"
      ],
      "text/plain": [
       "     Columns  Counts\n",
       "14  visapost     618\n",
       "15     occup     996\n",
       "18   entdepu    1000\n",
       "23    insnum     965"
      ]
     },
     "execution_count": 55,
     "metadata": {},
     "output_type": "execute_result"
    }
   ],
   "source": [
    "#Specify columns that have many columns\n",
    "df_null=pd.DataFrame(df.isnull().sum()).reset_index()\n",
    "df_null.columns=[\"Columns\",\"Counts\"]\n",
    "df_null[df_null[\"Counts\"]>500]"
   ]
  },
  {
   "cell_type": "code",
   "execution_count": 56,
   "metadata": {
    "editable": true
   },
   "outputs": [
    {
     "data": {
      "text/plain": [
       "2016.0    1000\n",
       "Name: i94yr, dtype: int64"
      ]
     },
     "execution_count": 56,
     "metadata": {},
     "output_type": "execute_result"
    }
   ],
   "source": [
    "\n",
    "df['i94yr'].value_counts()"
   ]
  },
  {
   "cell_type": "code",
   "execution_count": 6,
   "metadata": {
    "editable": true
   },
   "outputs": [],
   "source": [
    "#create spark_session\n",
    "\n",
    "from pyspark.sql import SparkSession\n",
    "\n",
    "spark = SparkSession.builder\\\n",
    "        .config(\"spark.jars.repositories\", \"https://repos.spark-packages.org/\")\\\n",
    "        .config(\"spark.jars.packages\", \"org.apache.hadoop:hadoop-aws:2.7.0,saurfang:spark-sas7bdat:2.0.0-s_2.11\")\\\n",
    "        .config(\"spark.hadoop.fs.s3a.access.key\",AWS_ACCESS_KEY_ID)\\\n",
    "        .config(\"spark.hadoop.fs.s3a.secret.key\",AWS_SECRET_ACCESS_KEY)\\\n",
    "        .enableHiveSupport().getOrCreate()\n"
   ]
  },
  {
   "cell_type": "code",
   "execution_count": 58,
   "metadata": {
    "editable": true
   },
   "outputs": [
    {
     "name": "stdout",
     "output_type": "stream",
     "text": [
      "+---------+------+------+------+------+-------+-------+-------+-------+-------+------+-------+-----+--------+--------+-----+-------+-------+-------+-------+-------+--------+------+------+-------+--------------+-----+--------+\n",
      "|    cicid| i94yr|i94mon|i94cit|i94res|i94port|arrdate|i94mode|i94addr|depdate|i94bir|i94visa|count|dtadfile|visapost|occup|entdepa|entdepd|entdepu|matflag|biryear| dtaddto|gender|insnum|airline|        admnum|fltno|visatype|\n",
      "+---------+------+------+------+------+-------+-------+-------+-------+-------+------+-------+-----+--------+--------+-----+-------+-------+-------+-------+-------+--------+------+------+-------+--------------+-----+--------+\n",
      "|5748517.0|2016.0|   4.0| 245.0| 438.0|    LOS|20574.0|    1.0|     CA|20582.0|  40.0|    1.0|  1.0|20160430|     SYD| null|      G|      O|   null|      M| 1976.0|10292016|     F|  null|     QF|9.495387003E10|00011|      B1|\n",
      "|5748518.0|2016.0|   4.0| 245.0| 438.0|    LOS|20574.0|    1.0|     NV|20591.0|  32.0|    1.0|  1.0|20160430|     SYD| null|      G|      O|   null|      M| 1984.0|10292016|     F|  null|     VA|9.495562283E10|00007|      B1|\n",
      "|5748519.0|2016.0|   4.0| 245.0| 438.0|    LOS|20574.0|    1.0|     WA|20582.0|  29.0|    1.0|  1.0|20160430|     SYD| null|      G|      O|   null|      M| 1987.0|10292016|     M|  null|     DL|9.495640653E10|00040|      B1|\n",
      "|5748520.0|2016.0|   4.0| 245.0| 438.0|    LOS|20574.0|    1.0|     WA|20588.0|  29.0|    1.0|  1.0|20160430|     SYD| null|      G|      O|   null|      M| 1987.0|10292016|     F|  null|     DL|9.495645143E10|00040|      B1|\n",
      "|5748521.0|2016.0|   4.0| 245.0| 438.0|    LOS|20574.0|    1.0|     WA|20588.0|  28.0|    1.0|  1.0|20160430|     SYD| null|      G|      O|   null|      M| 1988.0|10292016|     M|  null|     DL|9.495638813E10|00040|      B1|\n",
      "+---------+------+------+------+------+-------+-------+-------+-------+-------+------+-------+-----+--------+--------+-----+-------+-------+-------+-------+-------+--------+------+------+-------+--------------+-----+--------+\n",
      "only showing top 5 rows\n",
      "\n"
     ]
    }
   ],
   "source": [
    "#show immigration_data \n",
    "df_spark=spark.read.parquet(\"sas_data\")\n",
    "df_spark.show(5)"
   ]
  },
  {
   "cell_type": "code",
   "execution_count": 59,
   "metadata": {
    "editable": true
   },
   "outputs": [
    {
     "name": "stdout",
     "output_type": "stream",
     "text": [
      "Number of Columns 28\n",
      "Number Of Rows 3096313\n"
     ]
    }
   ],
   "source": [
    "\n",
    "#Number of rows and columns\n",
    "print(\"Number of Columns\",len(df_spark.columns))\n",
    "print(\"Number Of Rows\",df_spark.count())"
   ]
  },
  {
   "cell_type": "code",
   "execution_count": null,
   "metadata": {
    "editable": true
   },
   "outputs": [],
   "source": [
    "#Know how many nissing data we have\n",
    "null_Count=df_spark.select([count(when(isnan(c) | col(c).isNull(), c)).alias(c) for c in df_spark.columns])\n",
    "null_Count.show()"
   ]
  },
  {
   "cell_type": "code",
   "execution_count": null,
   "metadata": {
    "editable": true
   },
   "outputs": [],
   "source": [
    "#read Temperature Dat\n",
    "temp= '../../data2/GlobalLandTemperaturesByCity.csv'\n",
    "temp_df = pd.read_csv(temp)\n",
    "temp_df.head()"
   ]
  },
  {
   "cell_type": "code",
   "execution_count": null,
   "metadata": {
    "editable": true
   },
   "outputs": [],
   "source": [
    "temp_df[\"City\"].unique()\n",
    "\n"
   ]
  },
  {
   "cell_type": "code",
   "execution_count": null,
   "metadata": {
    "editable": true
   },
   "outputs": [],
   "source": [
    "temp_df.isnull().sum()\n"
   ]
  },
  {
   "cell_type": "code",
   "execution_count": null,
   "metadata": {
    "editable": true
   },
   "outputs": [],
   "source": [
    "#Read us-cities-demographics Data\n",
    "city_df=pd.read_csv('us-cities-demographics.csv',sep=';')\n",
    "city_df.head()"
   ]
  },
  {
   "cell_type": "code",
   "execution_count": null,
   "metadata": {
    "editable": true
   },
   "outputs": [],
   "source": [
    "#show data for silver spring city\n",
    "city_df[city_df[\"City\"]==\"Silver Spring\"]"
   ]
  },
  {
   "cell_type": "code",
   "execution_count": null,
   "metadata": {
    "editable": true
   },
   "outputs": [],
   "source": [
    "\n",
    "city_df.info()"
   ]
  },
  {
   "cell_type": "markdown",
   "metadata": {
    "editable": true
   },
   "source": [
    "### Step 2: Explore and Assess the Data\n",
    "#### Explore the Data \n",
    "I Explored data with pandas and pyspark\n",
    "I used pyspark to process large data in immigration_data and handle sas data.\n",
    "\n",
    "#### Cleaning Steps\n",
    "After Exploring data I will handle missing data , duplicated data ,data format,inconsistent data"
   ]
  },
  {
   "cell_type": "code",
   "execution_count": 22,
   "metadata": {
    "editable": true
   },
   "outputs": [],
   "source": [
    "#process some columns\n",
    "replace_column = udf(lambda x: 'Air' if x==1.0 else ('Sea' if x==2.0 else ('Land' if x==3.0 else 'Not reported')))\n",
    "replace_column1 = udf(lambda x: 'Business' if x==1.0 else ('Pleasure' if x==2.0 else  'Student'))\n",
    "replace_column2= udf(lambda x: 1 if x==\"M\" else 2)\n"
   ]
  },
  {
   "cell_type": "code",
   "execution_count": 23,
   "metadata": {
    "editable": true
   },
   "outputs": [],
   "source": [
    "#process some columns\n",
    "df_spark=df_spark.withColumn(\"model\",replace_column(df_spark.i94mode))\\\n",
    "                          .withColumn(\"visa_type\",replace_column1(df_spark.i94visa))\\\n",
    "                          .withColumn(\"person_id\",replace_column2(df_spark.gender)) \n",
    "\n"
   ]
  },
  {
   "cell_type": "code",
   "execution_count": 24,
   "metadata": {
    "editable": true
   },
   "outputs": [
    {
     "name": "stdout",
     "output_type": "stream",
     "text": [
      "+---------+------+-----+---------+----------+------------+--------------+----------+-------+------------+-------+--------+---------+\n",
      "|  fact_id|  year|month|city_code|state_code|arrival_date|departure_date|Occupation|Visa_id|airline_code|flag_id|model_id|person_id|\n",
      "+---------+------+-----+---------+----------+------------+--------------+----------+-------+------------+-------+--------+---------+\n",
      "|5748517.0|2016.0|  4.0|    245.0|        CA|     20574.0|       20582.0|      null|    1.0|          QF|      G|     1.0|        2|\n",
      "|5748518.0|2016.0|  4.0|    245.0|        NV|     20574.0|       20591.0|      null|    1.0|          VA|      G|     1.0|        2|\n",
      "|5748519.0|2016.0|  4.0|    245.0|        WA|     20574.0|       20582.0|      null|    1.0|          DL|      G|     1.0|        1|\n",
      "|5748520.0|2016.0|  4.0|    245.0|        WA|     20574.0|       20588.0|      null|    1.0|          DL|      G|     1.0|        2|\n",
      "|5748521.0|2016.0|  4.0|    245.0|        WA|     20574.0|       20588.0|      null|    1.0|          DL|      G|     1.0|        1|\n",
      "|5748522.0|2016.0|  4.0|    245.0|        HI|     20574.0|       20579.0|      null|    2.0|          NZ|      G|     1.0|        1|\n",
      "|5748523.0|2016.0|  4.0|    245.0|        HI|     20574.0|       20586.0|      null|    2.0|          NZ|      G|     1.0|        2|\n",
      "|5748524.0|2016.0|  4.0|    245.0|        HI|     20574.0|       20586.0|      null|    2.0|          NZ|      G|     1.0|        2|\n",
      "|5748525.0|2016.0|  4.0|    245.0|        FL|     20574.0|       20581.0|      null|    2.0|          NZ|      G|     1.0|        1|\n",
      "|5748526.0|2016.0|  4.0|    245.0|        CA|     20574.0|       20581.0|      null|    2.0|          NZ|      G|     1.0|        2|\n",
      "|5748527.0|2016.0|  4.0|    245.0|        MA|     20574.0|       20576.0|      null|    2.0|          UA|      G|     1.0|        1|\n",
      "|5748528.0|2016.0|  4.0|    245.0|      null|     20574.0|       20575.0|      null|    2.0|          CM|      G|     1.0|        1|\n",
      "|5748529.0|2016.0|  4.0|    245.0|        VA|     20574.0|       20596.0|      null|    2.0|          CM|      G|     1.0|        1|\n",
      "|5748530.0|2016.0|  4.0|    245.0|        CA|     20574.0|       20577.0|      null|    2.0|          CM|      G|     1.0|        2|\n",
      "|5748531.0|2016.0|  4.0|    245.0|        CA|     20574.0|       20577.0|      null|    2.0|          CM|      G|     1.0|        1|\n",
      "|5748532.0|2016.0|  4.0|    245.0|        FL|     20574.0|       20581.0|      null|    2.0|          CM|      G|     1.0|        2|\n",
      "|5748534.0|2016.0|  4.0|    245.0|        CA|     20574.0|          null|      null|    2.0|          CX|      G|     1.0|        2|\n",
      "|5748876.0|2016.0|  4.0|    245.0|        TX|     20574.0|       20583.0|      null|    1.0|          UA|      G|     1.0|        1|\n",
      "|5748877.0|2016.0|  4.0|    245.0|        TX|     20574.0|       20583.0|      null|    1.0|          UA|      G|     1.0|        2|\n",
      "|5748881.0|2016.0|  4.0|    245.0|        CA|     20574.0|       20575.0|      null|    2.0|          AM|      G|     1.0|        1|\n",
      "+---------+------+-----+---------+----------+------------+--------------+----------+-------+------------+-------+--------+---------+\n",
      "only showing top 20 rows\n",
      "\n"
     ]
    }
   ],
   "source": [
    "# Performing cleaning tasks here\n",
    "fact_table=df_spark.select([\"cicid\",\"i94yr\",\"i94mon\",\"i94cit\",\"i94addr\",\"arrdate\",\"depdate\",\"occup\",\"i94visa\",\"airline\",\"ENTDEPA\",\"i94mode\",\"person_id\"])\\\n",
    "                            .withColumnRenamed(\"cicid\",\"fact_id\")\\\n",
    "                            .withColumnRenamed(\"i94yr\",\"year\")\\\n",
    "                            .withColumnRenamed(\"i94mon\",\"month\")\\\n",
    "                            .withColumnRenamed(\"i94cit\",\"city_code\")\\\n",
    "                            .withColumnRenamed(\"arrdate\",\"arrival_date\")\\\n",
    "                            .withColumnRenamed(\"depdate\",\"departure_date\")\\\n",
    "                            .withColumnRenamed(\"i94addr\",\"state_code\")\\\n",
    "                            .withColumnRenamed(\"arrdate\",\"arrive_date\")\\\n",
    "                            .withColumnRenamed(\"occup\",\"Occupation\")\\\n",
    "                            .withColumnRenamed(\"i94visa\",\"Visa_id\")\\\n",
    "                            .withColumnRenamed(\"airline\",\"airline_code\")\\\n",
    "                            .withColumnRenamed(\"ENTDEPA\",\"flag_id\")\\\n",
    "                            .withColumnRenamed(\"i94mode\",\"model_id\")\n",
    "\n",
    "\n",
    "fact_table.show()\n",
    "\n",
    "\n"
   ]
  },
  {
   "cell_type": "code",
   "execution_count": 25,
   "metadata": {
    "editable": true
   },
   "outputs": [
    {
     "name": "stdout",
     "output_type": "stream",
     "text": [
      "+------------+--------------+-----+--------+\n",
      "|airline_code|        admnum|fltno|visatype|\n",
      "+------------+--------------+-----+--------+\n",
      "|          QF|9.495387003E10|00011|      B1|\n",
      "|          VA|9.495562283E10|00007|      B1|\n",
      "|          DL|9.495640653E10|00040|      B1|\n",
      "|          DL|9.495645143E10|00040|      B1|\n",
      "|          DL|9.495638813E10|00040|      B1|\n",
      "|          NZ|9.498180283E10|00010|      B2|\n",
      "|          NZ|9.497968993E10|00010|      B2|\n",
      "|          NZ|9.497974673E10|00010|      B2|\n",
      "|          NZ|9.497324663E10|00028|      B2|\n",
      "|          NZ|9.501354793E10|00002|      B2|\n",
      "|          UA|9.493828593E10|01215|      B2|\n",
      "|          CM|9.501810463E10|00472|      B2|\n",
      "|          CM|9.492489983E10|00488|      B2|\n",
      "|          CM|9.492648103E10|00302|      B2|\n",
      "|          CM|9.492629303E10|00302|      B2|\n",
      "|          CM|9.500640513E10|00430|      B2|\n",
      "|          CX|9.492476223E10|00872|      B2|\n",
      "|          UA|9.499463063E10|05574|      B1|\n",
      "|          UA|9.499447663E10|05574|      B1|\n",
      "|          AM|9.496770903E10|00646|      B2|\n",
      "+------------+--------------+-----+--------+\n",
      "only showing top 20 rows\n",
      "\n"
     ]
    }
   ],
   "source": [
    "#Extract airline_dimension\n",
    "airline_dim=df_spark.select([\"airline\",\"admnum\",\"fltno\",\"visatype\"])\\\n",
    "                    .withColumnRenamed(\"airline\",\"airline_code\")\n",
    "airline_dim.show()                           \n"
   ]
  },
  {
   "cell_type": "code",
   "execution_count": 26,
   "metadata": {
    "editable": true
   },
   "outputs": [
    {
     "name": "stdout",
     "output_type": "stream",
     "text": [
      "+-------+---------+--------+\n",
      "|Visa_id|visa_type|visapost|\n",
      "+-------+---------+--------+\n",
      "|    1.0| Business|     SYD|\n",
      "|    1.0| Business|     SYD|\n",
      "|    1.0| Business|     SYD|\n",
      "|    1.0| Business|     SYD|\n",
      "|    1.0| Business|     SYD|\n",
      "|    2.0| Pleasure|     ACK|\n",
      "|    2.0| Pleasure|     ACK|\n",
      "|    2.0| Pleasure|     ACK|\n",
      "|    2.0| Pleasure|     ACK|\n",
      "|    2.0| Pleasure|     ACK|\n",
      "|    2.0| Pleasure|     GUZ|\n",
      "|    2.0| Pleasure|     GUZ|\n",
      "|    2.0| Pleasure|     PNM|\n",
      "|    2.0| Pleasure|     PNM|\n",
      "|    2.0| Pleasure|     PNM|\n",
      "|    2.0| Pleasure|     PNM|\n",
      "|    2.0| Pleasure|     HNK|\n",
      "|    1.0| Business|     GUZ|\n",
      "|    1.0| Business|     GUZ|\n",
      "|    2.0| Pleasure|     SHG|\n",
      "+-------+---------+--------+\n",
      "only showing top 20 rows\n",
      "\n"
     ]
    }
   ],
   "source": [
    "#Extract Visa_dimension\n",
    "vis_dim=df_spark.select([\"i94visa\",\"visa_type\",\"visapost\"])\\\n",
    "                .withColumnRenamed(\"i94visa\",\"Visa_id\")\n",
    "vis_dim.show()"
   ]
  },
  {
   "cell_type": "code",
   "execution_count": 27,
   "metadata": {
    "editable": true
   },
   "outputs": [
    {
     "name": "stdout",
     "output_type": "stream",
     "text": [
      "+-------+--------------+-----------+----------+\n",
      "|flag_id|Departure_Flag|Update_Flag|Match_Flag|\n",
      "+-------+--------------+-----------+----------+\n",
      "|      G|             O|       null|         M|\n",
      "|      G|             O|       null|         M|\n",
      "|      G|             O|       null|         M|\n",
      "|      G|             O|       null|         M|\n",
      "|      G|             O|       null|         M|\n",
      "|      G|             O|       null|         M|\n",
      "|      G|             O|       null|         M|\n",
      "|      G|             O|       null|         M|\n",
      "|      G|             O|       null|         M|\n",
      "|      G|             O|       null|         M|\n",
      "|      G|             O|       null|         M|\n",
      "|      G|             O|       null|         M|\n",
      "|      G|             O|       null|         M|\n",
      "|      G|             O|       null|         M|\n",
      "|      G|             O|       null|         M|\n",
      "|      G|             O|       null|         M|\n",
      "|      G|          null|       null|      null|\n",
      "|      G|             O|       null|         M|\n",
      "|      G|             O|       null|         M|\n",
      "|      G|             O|       null|         M|\n",
      "+-------+--------------+-----------+----------+\n",
      "only showing top 20 rows\n",
      "\n"
     ]
    }
   ],
   "source": [
    "#Extract Flag_dimension\n",
    "Flag_dimm=df_spark.select([\"ENTDEPA\",\"ENTDEPD\",\"ENTDEPU\",\"MATFLAG\"])\\\n",
    "                .withColumnRenamed(\"ENTDEPA\",\"flag_id\")\\\n",
    "                .withColumnRenamed(\"ENTDEPD\",\"Departure_Flag\")\\\n",
    "                .withColumnRenamed(\"ENTDEPU\",\"Update_Flag\")\\\n",
    "                .withColumnRenamed(\"MATFLAG\",\"Match_Flag\")\n",
    "\n",
    "\n",
    "Flag_dimm.show()\n"
   ]
  },
  {
   "cell_type": "code",
   "execution_count": 28,
   "metadata": {
    "editable": true
   },
   "outputs": [
    {
     "name": "stdout",
     "output_type": "stream",
     "text": [
      "+----------+------+---------+\n",
      "|Birth_Year|gender|person_id|\n",
      "+----------+------+---------+\n",
      "|    1976.0|     F|        2|\n",
      "|    1984.0|     F|        2|\n",
      "|    1987.0|     M|        1|\n",
      "|    1987.0|     F|        2|\n",
      "|    1988.0|     M|        1|\n",
      "|    1959.0|     M|        1|\n",
      "|    1950.0|     F|        2|\n",
      "|    1975.0|     F|        2|\n",
      "|    1989.0|     M|        1|\n",
      "|    1990.0|     F|        2|\n",
      "|    1972.0|     M|        1|\n",
      "|    1977.0|     M|        1|\n",
      "|    1978.0|     M|        1|\n",
      "|    1960.0|     F|        2|\n",
      "|    1978.0|     M|        1|\n",
      "|    1963.0|     F|        2|\n",
      "|    1932.0|     F|        2|\n",
      "|    1973.0|     M|        1|\n",
      "|    1986.0|     F|        2|\n",
      "|    1982.0|     M|        1|\n",
      "+----------+------+---------+\n",
      "only showing top 20 rows\n",
      "\n"
     ]
    }
   ],
   "source": [
    "#Person Dimmension\n",
    "Person_dimm=df_spark.select(['biryear', 'gender', 'person_id'])\\\n",
    "                .withColumnRenamed(\"biryear\",\"Birth_Year\")\n",
    "           \n",
    "Person_dimm.show()"
   ]
  },
  {
   "cell_type": "code",
   "execution_count": 32,
   "metadata": {
    "editable": true
   },
   "outputs": [
    {
     "name": "stdout",
     "output_type": "stream",
     "text": [
      "+--------+-----+\n",
      "|model_id|Model|\n",
      "+--------+-----+\n",
      "|     1.0|  Air|\n",
      "|     1.0|  Air|\n",
      "|     1.0|  Air|\n",
      "|     1.0|  Air|\n",
      "|     1.0|  Air|\n",
      "|     1.0|  Air|\n",
      "|     1.0|  Air|\n",
      "|     1.0|  Air|\n",
      "|     1.0|  Air|\n",
      "|     1.0|  Air|\n",
      "|     1.0|  Air|\n",
      "|     1.0|  Air|\n",
      "|     1.0|  Air|\n",
      "|     1.0|  Air|\n",
      "|     1.0|  Air|\n",
      "|     1.0|  Air|\n",
      "|     1.0|  Air|\n",
      "|     1.0|  Air|\n",
      "|     1.0|  Air|\n",
      "|     1.0|  Air|\n",
      "+--------+-----+\n",
      "only showing top 20 rows\n",
      "\n"
     ]
    }
   ],
   "source": [
    "#Model Dimmension\n",
    "model_dimm=df_spark.select([\"i94mode\",\"Model\"])\\\n",
    "                .withColumnRenamed(\"i94mode\",\"model_id\")\n",
    "           \n",
    "model_dimm.show()"
   ]
  },
  {
   "cell_type": "code",
   "execution_count": 33,
   "metadata": {
    "editable": true
   },
   "outputs": [
    {
     "data": {
      "text/plain": [
       "Index(['City', 'State', 'Median Age', 'Male Population', 'Female Population',\n",
       "       'Total Population', 'Number of Veterans', 'Foreign-born',\n",
       "       'Average Household Size', 'State Code', 'Race', 'Count'],\n",
       "      dtype='object')"
      ]
     },
     "execution_count": 33,
     "metadata": {},
     "output_type": "execute_result"
    }
   ],
   "source": [
    "city_df.columns"
   ]
  },
  {
   "cell_type": "code",
   "execution_count": 34,
   "metadata": {
    "editable": true
   },
   "outputs": [
    {
     "data": {
      "text/html": [
       "<div>\n",
       "<style scoped>\n",
       "    .dataframe tbody tr th:only-of-type {\n",
       "        vertical-align: middle;\n",
       "    }\n",
       "\n",
       "    .dataframe tbody tr th {\n",
       "        vertical-align: top;\n",
       "    }\n",
       "\n",
       "    .dataframe thead th {\n",
       "        text-align: right;\n",
       "    }\n",
       "</style>\n",
       "<table border=\"1\" class=\"dataframe\">\n",
       "  <thead>\n",
       "    <tr style=\"text-align: right;\">\n",
       "      <th></th>\n",
       "      <th>City</th>\n",
       "      <th>State</th>\n",
       "      <th>state_code</th>\n",
       "      <th>Race</th>\n",
       "    </tr>\n",
       "  </thead>\n",
       "  <tbody>\n",
       "    <tr>\n",
       "      <th>0</th>\n",
       "      <td>Silver Spring</td>\n",
       "      <td>Maryland</td>\n",
       "      <td>MD</td>\n",
       "      <td>Hispanic or Latino</td>\n",
       "    </tr>\n",
       "    <tr>\n",
       "      <th>1</th>\n",
       "      <td>Quincy</td>\n",
       "      <td>Massachusetts</td>\n",
       "      <td>MA</td>\n",
       "      <td>White</td>\n",
       "    </tr>\n",
       "    <tr>\n",
       "      <th>2</th>\n",
       "      <td>Hoover</td>\n",
       "      <td>Alabama</td>\n",
       "      <td>AL</td>\n",
       "      <td>Asian</td>\n",
       "    </tr>\n",
       "    <tr>\n",
       "      <th>3</th>\n",
       "      <td>Rancho Cucamonga</td>\n",
       "      <td>California</td>\n",
       "      <td>CA</td>\n",
       "      <td>Black or African-American</td>\n",
       "    </tr>\n",
       "    <tr>\n",
       "      <th>4</th>\n",
       "      <td>Newark</td>\n",
       "      <td>New Jersey</td>\n",
       "      <td>NJ</td>\n",
       "      <td>White</td>\n",
       "    </tr>\n",
       "  </tbody>\n",
       "</table>\n",
       "</div>"
      ],
      "text/plain": [
       "               City          State state_code                       Race\n",
       "0     Silver Spring       Maryland         MD         Hispanic or Latino\n",
       "1            Quincy  Massachusetts         MA                      White\n",
       "2            Hoover        Alabama         AL                      Asian\n",
       "3  Rancho Cucamonga     California         CA  Black or African-American\n",
       "4            Newark     New Jersey         NJ                      White"
      ]
     },
     "execution_count": 34,
     "metadata": {},
     "output_type": "execute_result"
    }
   ],
   "source": [
    "state_dimm=city_df[[\"City\",\"State\",\"State Code\",\"Race\"]]\n",
    "state_dimm.columns=[\"City\",\"State\",\"state_code\",\"Race\"]\n",
    "state_dimm.head()"
   ]
  },
  {
   "cell_type": "code",
   "execution_count": 35,
   "metadata": {
    "editable": true
   },
   "outputs": [
    {
     "data": {
      "text/html": [
       "<div>\n",
       "<style scoped>\n",
       "    .dataframe tbody tr th:only-of-type {\n",
       "        vertical-align: middle;\n",
       "    }\n",
       "\n",
       "    .dataframe tbody tr th {\n",
       "        vertical-align: top;\n",
       "    }\n",
       "\n",
       "    .dataframe thead th {\n",
       "        text-align: right;\n",
       "    }\n",
       "</style>\n",
       "<table border=\"1\" class=\"dataframe\">\n",
       "  <thead>\n",
       "    <tr style=\"text-align: right;\">\n",
       "      <th></th>\n",
       "      <th>Median_Age</th>\n",
       "      <th>Male_Population</th>\n",
       "      <th>Female_Population</th>\n",
       "      <th>Total_Population</th>\n",
       "      <th>Number_Veterans</th>\n",
       "      <th>Foreign-born</th>\n",
       "      <th>Average_Household Size</th>\n",
       "      <th>State_Code</th>\n",
       "    </tr>\n",
       "  </thead>\n",
       "  <tbody>\n",
       "    <tr>\n",
       "      <th>0</th>\n",
       "      <td>33.8</td>\n",
       "      <td>40601.0</td>\n",
       "      <td>41862.0</td>\n",
       "      <td>82463</td>\n",
       "      <td>1562.0</td>\n",
       "      <td>30908.0</td>\n",
       "      <td>2.60</td>\n",
       "      <td>MD</td>\n",
       "    </tr>\n",
       "    <tr>\n",
       "      <th>1</th>\n",
       "      <td>41.0</td>\n",
       "      <td>44129.0</td>\n",
       "      <td>49500.0</td>\n",
       "      <td>93629</td>\n",
       "      <td>4147.0</td>\n",
       "      <td>32935.0</td>\n",
       "      <td>2.39</td>\n",
       "      <td>MA</td>\n",
       "    </tr>\n",
       "    <tr>\n",
       "      <th>2</th>\n",
       "      <td>38.5</td>\n",
       "      <td>38040.0</td>\n",
       "      <td>46799.0</td>\n",
       "      <td>84839</td>\n",
       "      <td>4819.0</td>\n",
       "      <td>8229.0</td>\n",
       "      <td>2.58</td>\n",
       "      <td>AL</td>\n",
       "    </tr>\n",
       "    <tr>\n",
       "      <th>3</th>\n",
       "      <td>34.5</td>\n",
       "      <td>88127.0</td>\n",
       "      <td>87105.0</td>\n",
       "      <td>175232</td>\n",
       "      <td>5821.0</td>\n",
       "      <td>33878.0</td>\n",
       "      <td>3.18</td>\n",
       "      <td>CA</td>\n",
       "    </tr>\n",
       "    <tr>\n",
       "      <th>4</th>\n",
       "      <td>34.6</td>\n",
       "      <td>138040.0</td>\n",
       "      <td>143873.0</td>\n",
       "      <td>281913</td>\n",
       "      <td>5829.0</td>\n",
       "      <td>86253.0</td>\n",
       "      <td>2.73</td>\n",
       "      <td>NJ</td>\n",
       "    </tr>\n",
       "  </tbody>\n",
       "</table>\n",
       "</div>"
      ],
      "text/plain": [
       "   Median_Age  Male_Population  Female_Population  Total_Population  \\\n",
       "0        33.8          40601.0            41862.0             82463   \n",
       "1        41.0          44129.0            49500.0             93629   \n",
       "2        38.5          38040.0            46799.0             84839   \n",
       "3        34.5          88127.0            87105.0            175232   \n",
       "4        34.6         138040.0           143873.0            281913   \n",
       "\n",
       "   Number_Veterans  Foreign-born  Average_Household Size State_Code  \n",
       "0           1562.0       30908.0                    2.60         MD  \n",
       "1           4147.0       32935.0                    2.39         MA  \n",
       "2           4819.0        8229.0                    2.58         AL  \n",
       "3           5821.0       33878.0                    3.18         CA  \n",
       "4           5829.0       86253.0                    2.73         NJ  "
      ]
     },
     "execution_count": 35,
     "metadata": {},
     "output_type": "execute_result"
    }
   ],
   "source": [
    "pop_stats_dimm=city_df[['Median Age', 'Male Population', 'Female Population',\n",
    "       'Total Population', 'Number of Veterans', 'Foreign-born',\n",
    "       'Average Household Size', 'State Code']]\n",
    "pop_stats_dimm.columns=['Median_Age', 'Male_Population', 'Female_Population',\n",
    "       'Total_Population', 'Number_Veterans', 'Foreign-born',\n",
    "       'Average_Household Size', 'State_Code']\n",
    "pop_stats_dimm.head()"
   ]
  },
  {
   "cell_type": "code",
   "execution_count": 36,
   "metadata": {
    "editable": true
   },
   "outputs": [
    {
     "data": {
      "text/html": [
       "<div>\n",
       "<style scoped>\n",
       "    .dataframe tbody tr th:only-of-type {\n",
       "        vertical-align: middle;\n",
       "    }\n",
       "\n",
       "    .dataframe tbody tr th {\n",
       "        vertical-align: top;\n",
       "    }\n",
       "\n",
       "    .dataframe thead th {\n",
       "        text-align: right;\n",
       "    }\n",
       "</style>\n",
       "<table border=\"1\" class=\"dataframe\">\n",
       "  <thead>\n",
       "    <tr style=\"text-align: right;\">\n",
       "      <th></th>\n",
       "      <th>dt</th>\n",
       "      <th>AverageTemperature</th>\n",
       "      <th>AverageTemperatureUncertainty</th>\n",
       "      <th>City</th>\n",
       "      <th>Country</th>\n",
       "    </tr>\n",
       "  </thead>\n",
       "  <tbody>\n",
       "    <tr>\n",
       "      <th>0</th>\n",
       "      <td>1743-11-01</td>\n",
       "      <td>6.068</td>\n",
       "      <td>1.737</td>\n",
       "      <td>Århus</td>\n",
       "      <td>Denmark</td>\n",
       "    </tr>\n",
       "    <tr>\n",
       "      <th>1</th>\n",
       "      <td>1743-12-01</td>\n",
       "      <td>NaN</td>\n",
       "      <td>NaN</td>\n",
       "      <td>Århus</td>\n",
       "      <td>Denmark</td>\n",
       "    </tr>\n",
       "    <tr>\n",
       "      <th>2</th>\n",
       "      <td>1744-01-01</td>\n",
       "      <td>NaN</td>\n",
       "      <td>NaN</td>\n",
       "      <td>Århus</td>\n",
       "      <td>Denmark</td>\n",
       "    </tr>\n",
       "    <tr>\n",
       "      <th>3</th>\n",
       "      <td>1744-02-01</td>\n",
       "      <td>NaN</td>\n",
       "      <td>NaN</td>\n",
       "      <td>Århus</td>\n",
       "      <td>Denmark</td>\n",
       "    </tr>\n",
       "    <tr>\n",
       "      <th>4</th>\n",
       "      <td>1744-03-01</td>\n",
       "      <td>NaN</td>\n",
       "      <td>NaN</td>\n",
       "      <td>Århus</td>\n",
       "      <td>Denmark</td>\n",
       "    </tr>\n",
       "  </tbody>\n",
       "</table>\n",
       "</div>"
      ],
      "text/plain": [
       "           dt  AverageTemperature  AverageTemperatureUncertainty   City  \\\n",
       "0  1743-11-01               6.068                          1.737  Århus   \n",
       "1  1743-12-01                 NaN                            NaN  Århus   \n",
       "2  1744-01-01                 NaN                            NaN  Århus   \n",
       "3  1744-02-01                 NaN                            NaN  Århus   \n",
       "4  1744-03-01                 NaN                            NaN  Århus   \n",
       "\n",
       "   Country  \n",
       "0  Denmark  \n",
       "1  Denmark  \n",
       "2  Denmark  \n",
       "3  Denmark  \n",
       "4  Denmark  "
      ]
     },
     "execution_count": 36,
     "metadata": {},
     "output_type": "execute_result"
    }
   ],
   "source": [
    "temp_dimm=temp_df[[\"dt\",\"AverageTemperature\",\"AverageTemperatureUncertainty\",\"City\",\"Country\"]]\n",
    "temp_dimm.head()"
   ]
  },
  {
   "cell_type": "code",
   "execution_count": null,
   "metadata": {
    "editable": true
   },
   "outputs": [],
   "source": []
  },
  {
   "cell_type": "markdown",
   "metadata": {
    "editable": true
   },
   "source": [
    "### Cleaning_Data"
   ]
  },
  {
   "cell_type": "code",
   "execution_count": 37,
   "metadata": {
    "editable": true
   },
   "outputs": [],
   "source": [
    "#function to specify percent of missing data\n",
    "def percent_data(data):\n",
    "    missing=data.select([count(when(isnan(c) | col(c).isNull(), c)).alias(c) for c in data.columns])\n",
    "    num_of_data=data.count()\n",
    "    missing_df=missing.toPandas()\n",
    "    return missing_df/num_of_data"
   ]
  },
  {
   "cell_type": "code",
   "execution_count": 32,
   "metadata": {
    "editable": true
   },
   "outputs": [
    {
     "data": {
      "text/html": [
       "<div>\n",
       "<style scoped>\n",
       "    .dataframe tbody tr th:only-of-type {\n",
       "        vertical-align: middle;\n",
       "    }\n",
       "\n",
       "    .dataframe tbody tr th {\n",
       "        vertical-align: top;\n",
       "    }\n",
       "\n",
       "    .dataframe thead th {\n",
       "        text-align: right;\n",
       "    }\n",
       "</style>\n",
       "<table border=\"1\" class=\"dataframe\">\n",
       "  <thead>\n",
       "    <tr style=\"text-align: right;\">\n",
       "      <th></th>\n",
       "      <th>fact_id</th>\n",
       "      <th>year</th>\n",
       "      <th>month</th>\n",
       "      <th>city_code</th>\n",
       "      <th>state_code</th>\n",
       "      <th>arrival_date</th>\n",
       "      <th>departure_date</th>\n",
       "      <th>Occupation</th>\n",
       "      <th>Visa_id</th>\n",
       "      <th>airline_code</th>\n",
       "      <th>flag_id</th>\n",
       "      <th>model_id</th>\n",
       "      <th>person_id</th>\n",
       "    </tr>\n",
       "  </thead>\n",
       "  <tbody>\n",
       "    <tr>\n",
       "      <th>0</th>\n",
       "      <td>0.0</td>\n",
       "      <td>0.0</td>\n",
       "      <td>0.0</td>\n",
       "      <td>0.0</td>\n",
       "      <td>0.049282</td>\n",
       "      <td>0.0</td>\n",
       "      <td>0.046009</td>\n",
       "      <td>0.997376</td>\n",
       "      <td>0.0</td>\n",
       "      <td>0.027009</td>\n",
       "      <td>0.000077</td>\n",
       "      <td>0.000077</td>\n",
       "      <td>0.0</td>\n",
       "    </tr>\n",
       "  </tbody>\n",
       "</table>\n",
       "</div>"
      ],
      "text/plain": [
       "   fact_id  year  month  city_code  state_code  arrival_date  departure_date  \\\n",
       "0      0.0   0.0    0.0        0.0    0.049282           0.0        0.046009   \n",
       "\n",
       "   Occupation  Visa_id  airline_code   flag_id  model_id  person_id  \n",
       "0    0.997376      0.0      0.027009  0.000077  0.000077        0.0  "
      ]
     },
     "execution_count": 32,
     "metadata": {},
     "output_type": "execute_result"
    }
   ],
   "source": [
    "#will start by fact_table\n",
    "percent_data(fact_table)"
   ]
  },
  {
   "cell_type": "code",
   "execution_count": 33,
   "metadata": {
    "editable": true
   },
   "outputs": [
    {
     "name": "stdout",
     "output_type": "stream",
     "text": [
      "+---------+------+-----+---------+----------+------------+--------------+-------+------------+-------+--------+---------+\n",
      "|  fact_id|  year|month|city_code|state_code|arrival_date|departure_date|Visa_id|airline_code|flag_id|model_id|person_id|\n",
      "+---------+------+-----+---------+----------+------------+--------------+-------+------------+-------+--------+---------+\n",
      "|5748517.0|2016.0|  4.0|    245.0|        CA|     20574.0|       20582.0|    1.0|          QF|      G|     1.0|        2|\n",
      "|5748518.0|2016.0|  4.0|    245.0|        NV|     20574.0|       20591.0|    1.0|          VA|      G|     1.0|        2|\n",
      "|5748519.0|2016.0|  4.0|    245.0|        WA|     20574.0|       20582.0|    1.0|          DL|      G|     1.0|        1|\n",
      "|5748520.0|2016.0|  4.0|    245.0|        WA|     20574.0|       20588.0|    1.0|          DL|      G|     1.0|        2|\n",
      "|5748521.0|2016.0|  4.0|    245.0|        WA|     20574.0|       20588.0|    1.0|          DL|      G|     1.0|        1|\n",
      "|5748522.0|2016.0|  4.0|    245.0|        HI|     20574.0|       20579.0|    2.0|          NZ|      G|     1.0|        1|\n",
      "|5748523.0|2016.0|  4.0|    245.0|        HI|     20574.0|       20586.0|    2.0|          NZ|      G|     1.0|        2|\n",
      "|5748524.0|2016.0|  4.0|    245.0|        HI|     20574.0|       20586.0|    2.0|          NZ|      G|     1.0|        2|\n",
      "|5748525.0|2016.0|  4.0|    245.0|        FL|     20574.0|       20581.0|    2.0|          NZ|      G|     1.0|        1|\n",
      "|5748526.0|2016.0|  4.0|    245.0|        CA|     20574.0|       20581.0|    2.0|          NZ|      G|     1.0|        2|\n",
      "|5748527.0|2016.0|  4.0|    245.0|        MA|     20574.0|       20576.0|    2.0|          UA|      G|     1.0|        1|\n",
      "|5748528.0|2016.0|  4.0|    245.0|      null|     20574.0|       20575.0|    2.0|          CM|      G|     1.0|        1|\n",
      "|5748529.0|2016.0|  4.0|    245.0|        VA|     20574.0|       20596.0|    2.0|          CM|      G|     1.0|        1|\n",
      "|5748530.0|2016.0|  4.0|    245.0|        CA|     20574.0|       20577.0|    2.0|          CM|      G|     1.0|        2|\n",
      "|5748531.0|2016.0|  4.0|    245.0|        CA|     20574.0|       20577.0|    2.0|          CM|      G|     1.0|        1|\n",
      "|5748532.0|2016.0|  4.0|    245.0|        FL|     20574.0|       20581.0|    2.0|          CM|      G|     1.0|        2|\n",
      "|5748534.0|2016.0|  4.0|    245.0|        CA|     20574.0|          null|    2.0|          CX|      G|     1.0|        2|\n",
      "|5748876.0|2016.0|  4.0|    245.0|        TX|     20574.0|       20583.0|    1.0|          UA|      G|     1.0|        1|\n",
      "|5748877.0|2016.0|  4.0|    245.0|        TX|     20574.0|       20583.0|    1.0|          UA|      G|     1.0|        2|\n",
      "|5748881.0|2016.0|  4.0|    245.0|        CA|     20574.0|       20575.0|    2.0|          AM|      G|     1.0|        1|\n",
      "+---------+------+-----+---------+----------+------------+--------------+-------+------------+-------+--------+---------+\n",
      "only showing top 20 rows\n",
      "\n"
     ]
    }
   ],
   "source": [
    "#I will drop Occupation and drop all missing data in rest of columns \n",
    "fact_table=fact_table.drop(\"Occupation\")\n",
    "fact_table.show()"
   ]
  },
  {
   "cell_type": "code",
   "execution_count": 34,
   "metadata": {
    "editable": true
   },
   "outputs": [
    {
     "data": {
      "text/plain": [
       "2770081"
      ]
     },
     "execution_count": 34,
     "metadata": {},
     "output_type": "execute_result"
    }
   ],
   "source": [
    "#drop missing data and duplicates\n",
    "fact_table=fact_table.dropna()\\\n",
    "                    .drop_duplicates()\n",
    "fact_table.count()"
   ]
  },
  {
   "cell_type": "code",
   "execution_count": 35,
   "metadata": {
    "editable": true
   },
   "outputs": [
    {
     "name": "stdout",
     "output_type": "stream",
     "text": [
      "root\n",
      " |-- fact_id: double (nullable = true)\n",
      " |-- year: double (nullable = true)\n",
      " |-- month: double (nullable = true)\n",
      " |-- city_code: double (nullable = true)\n",
      " |-- state_code: string (nullable = true)\n",
      " |-- arrival_date: double (nullable = true)\n",
      " |-- departure_date: double (nullable = true)\n",
      " |-- Visa_id: double (nullable = true)\n",
      " |-- airline_code: string (nullable = true)\n",
      " |-- flag_id: string (nullable = true)\n",
      " |-- model_id: double (nullable = true)\n",
      " |-- person_id: string (nullable = true)\n",
      "\n"
     ]
    }
   ],
   "source": [
    "#expole data types\n",
    "fact_table.printSchema()"
   ]
  },
  {
   "cell_type": "code",
   "execution_count": 36,
   "metadata": {
    "editable": true
   },
   "outputs": [
    {
     "data": {
      "text/html": [
       "<div>\n",
       "<style scoped>\n",
       "    .dataframe tbody tr th:only-of-type {\n",
       "        vertical-align: middle;\n",
       "    }\n",
       "\n",
       "    .dataframe tbody tr th {\n",
       "        vertical-align: top;\n",
       "    }\n",
       "\n",
       "    .dataframe thead th {\n",
       "        text-align: right;\n",
       "    }\n",
       "</style>\n",
       "<table border=\"1\" class=\"dataframe\">\n",
       "  <thead>\n",
       "    <tr style=\"text-align: right;\">\n",
       "      <th></th>\n",
       "      <th>fact_id</th>\n",
       "      <th>year</th>\n",
       "      <th>month</th>\n",
       "      <th>city_code</th>\n",
       "      <th>state_code</th>\n",
       "      <th>arrival_date</th>\n",
       "      <th>departure_date</th>\n",
       "      <th>Visa_id</th>\n",
       "      <th>airline_code</th>\n",
       "      <th>flag_id</th>\n",
       "      <th>model_id</th>\n",
       "      <th>person_id</th>\n",
       "    </tr>\n",
       "  </thead>\n",
       "  <tbody>\n",
       "    <tr>\n",
       "      <th>0</th>\n",
       "      <td>0</td>\n",
       "      <td>0</td>\n",
       "      <td>0</td>\n",
       "      <td>0</td>\n",
       "      <td>0</td>\n",
       "      <td>0</td>\n",
       "      <td>0</td>\n",
       "      <td>0</td>\n",
       "      <td>0</td>\n",
       "      <td>0</td>\n",
       "      <td>0</td>\n",
       "      <td>0</td>\n",
       "    </tr>\n",
       "  </tbody>\n",
       "</table>\n",
       "</div>"
      ],
      "text/plain": [
       "   fact_id  year  month  city_code  state_code  arrival_date  departure_date  \\\n",
       "0        0     0      0          0           0             0               0   \n",
       "\n",
       "   Visa_id  airline_code  flag_id  model_id  person_id  \n",
       "0        0             0        0         0          0  "
      ]
     },
     "execution_count": 36,
     "metadata": {},
     "output_type": "execute_result"
    }
   ],
   "source": [
    "percent_data(fact_table)"
   ]
  },
  {
   "cell_type": "markdown",
   "metadata": {
    "editable": true
   },
   "source": [
    "### change departure_date and arrival to date format\n"
   ]
  },
  {
   "cell_type": "code",
   "execution_count": 37,
   "metadata": {
    "editable": true
   },
   "outputs": [],
   "source": [
    "def convert_to_datetime(date):\n",
    "    \"\"\"\n",
    "    Convert to yyyy-mm-dd format\n",
    "    \n",
    "    :return: date in yyyy-mm-dd format\n",
    "    \"\"\"   \n",
    "    if date is not None:\n",
    "        return pd.Timestamp('1960-1-1')+pd.to_timedelta(date, unit='D')\n",
    "get_date = udf(convert_to_datetime, DateType())\n",
    "fact_table=fact_table.withColumn(\"arrival_date\",get_date(fact_table.arrival_date))\\\n",
    ".withColumn(\"departure_date\",get_date(fact_table.departure_date))\n",
    "  \n",
    "             "
   ]
  },
  {
   "cell_type": "code",
   "execution_count": 38,
   "metadata": {
    "editable": true
   },
   "outputs": [
    {
     "name": "stdout",
     "output_type": "stream",
     "text": [
      "+---------+------+-----+---------+----------+------------+--------------+-------+------------+-------+--------+---------+\n",
      "|  fact_id|  year|month|city_code|state_code|arrival_date|departure_date|Visa_id|airline_code|flag_id|model_id|person_id|\n",
      "+---------+------+-----+---------+----------+------------+--------------+-------+------------+-------+--------+---------+\n",
      "|5947593.0|2016.0|  4.0|    252.0|        GU|  2016-04-01|    2016-04-03|    2.0|          UA|      A|     1.0|        1|\n",
      "|5947701.0|2016.0|  4.0|    252.0|        GU|  2016-04-01|    2016-04-03|    2.0|          UA|      A|     1.0|        1|\n",
      "|5947713.0|2016.0|  4.0|    252.0|        GU|  2016-04-01|    2016-04-03|    2.0|          UA|      A|     1.0|        1|\n",
      "|5948013.0|2016.0|  4.0|    252.0|        GU|  2016-04-01|    2016-04-04|    2.0|          UA|      A|     1.0|        1|\n",
      "|5949725.0|2016.0|  4.0|    252.0|        GU|  2016-04-02|    2016-04-04|    2.0|          UA|      A|     1.0|        1|\n",
      "|5950712.0|2016.0|  4.0|    252.0|        GU|  2016-04-02|    2016-04-05|    2.0|          UA|      A|     1.0|        1|\n",
      "|5951297.0|2016.0|  4.0|    252.0|        GU|  2016-04-03|    2016-04-05|    2.0|          UA|      A|     1.0|        1|\n",
      "|5951308.0|2016.0|  4.0|    252.0|        GU|  2016-04-03|    2016-04-05|    2.0|          TW|      A|     1.0|        1|\n",
      "|5951503.0|2016.0|  4.0|    252.0|        GU|  2016-04-03|    2016-04-06|    2.0|          DL|      A|     1.0|        1|\n",
      "|5951630.0|2016.0|  4.0|    252.0|        GU|  2016-04-03|    2016-04-06|    2.0|          DL|      A|     1.0|        1|\n",
      "|5951640.0|2016.0|  4.0|    252.0|        GU|  2016-04-03|    2016-04-06|    2.0|          JL|      A|     1.0|        1|\n",
      "|5952050.0|2016.0|  4.0|    252.0|        GU|  2016-04-04|    2016-04-06|    2.0|          DL|      A|     1.0|        1|\n",
      "|5954304.0|2016.0|  4.0|    254.0|        GU|  2016-04-01|    2016-04-04|    2.0|          LJ|      A|     1.0|        1|\n",
      "|5954747.0|2016.0|  4.0|    254.0|        GU|  2016-04-01|    2016-04-05|    2.0|          LJ|      A|     1.0|        1|\n",
      "|5955003.0|2016.0|  4.0|    254.0|        GU|  2016-04-02|    2016-04-04|    2.0|          KE|      A|     1.0|        1|\n",
      "|5955232.0|2016.0|  4.0|    254.0|        GU|  2016-04-02|    2016-04-05|    2.0|          KE|      A|     1.0|        1|\n",
      "|5955890.0|2016.0|  4.0|    254.0|        GU|  2016-04-03|    2016-04-05|    2.0|          7C|      A|     1.0|        1|\n",
      "|5964392.0|2016.0|  4.0|    252.0|        GU|  2016-04-07|    2016-04-11|    2.0|          UA|      A|     1.0|        1|\n",
      "|5965262.0|2016.0|  4.0|    252.0|        GU|  2016-04-03|    2016-04-07|    2.0|          UA|      A|     1.0|        1|\n",
      "|5965597.0|2016.0|  4.0|    252.0|        GU|  2016-04-04|    2016-04-07|    2.0|          UA|      A|     1.0|        1|\n",
      "+---------+------+-----+---------+----------+------------+--------------+-------+------------+-------+--------+---------+\n",
      "only showing top 20 rows\n",
      "\n"
     ]
    }
   ],
   "source": [
    "fact_table.show()"
   ]
  },
  {
   "cell_type": "code",
   "execution_count": 39,
   "metadata": {
    "editable": true
   },
   "outputs": [
    {
     "name": "stdout",
     "output_type": "stream",
     "text": [
      "root\n",
      " |-- fact_id: double (nullable = true)\n",
      " |-- year: double (nullable = true)\n",
      " |-- month: double (nullable = true)\n",
      " |-- city_code: double (nullable = true)\n",
      " |-- state_code: string (nullable = true)\n",
      " |-- arrival_date: date (nullable = true)\n",
      " |-- departure_date: date (nullable = true)\n",
      " |-- Visa_id: double (nullable = true)\n",
      " |-- airline_code: string (nullable = true)\n",
      " |-- flag_id: string (nullable = true)\n",
      " |-- model_id: double (nullable = true)\n",
      " |-- person_id: string (nullable = true)\n",
      "\n"
     ]
    }
   ],
   "source": [
    "fact_table.printSchema()"
   ]
  },
  {
   "cell_type": "markdown",
   "metadata": {
    "editable": true
   },
   "source": [
    "### Cleaning airline Dimension"
   ]
  },
  {
   "cell_type": "code",
   "execution_count": 40,
   "metadata": {
    "editable": true
   },
   "outputs": [
    {
     "name": "stdout",
     "output_type": "stream",
     "text": [
      "root\n",
      " |-- airline_code: string (nullable = true)\n",
      " |-- admnum: double (nullable = true)\n",
      " |-- fltno: string (nullable = true)\n",
      " |-- visatype: string (nullable = true)\n",
      "\n"
     ]
    }
   ],
   "source": [
    "#print Schema\n",
    "airline_dim.printSchema()   "
   ]
  },
  {
   "cell_type": "code",
   "execution_count": 41,
   "metadata": {
    "editable": true
   },
   "outputs": [
    {
     "data": {
      "text/html": [
       "<div>\n",
       "<style scoped>\n",
       "    .dataframe tbody tr th:only-of-type {\n",
       "        vertical-align: middle;\n",
       "    }\n",
       "\n",
       "    .dataframe tbody tr th {\n",
       "        vertical-align: top;\n",
       "    }\n",
       "\n",
       "    .dataframe thead th {\n",
       "        text-align: right;\n",
       "    }\n",
       "</style>\n",
       "<table border=\"1\" class=\"dataframe\">\n",
       "  <thead>\n",
       "    <tr style=\"text-align: right;\">\n",
       "      <th></th>\n",
       "      <th>airline_code</th>\n",
       "      <th>admnum</th>\n",
       "      <th>fltno</th>\n",
       "      <th>visatype</th>\n",
       "    </tr>\n",
       "  </thead>\n",
       "  <tbody>\n",
       "    <tr>\n",
       "      <th>0</th>\n",
       "      <td>0.027009</td>\n",
       "      <td>0.0</td>\n",
       "      <td>0.006314</td>\n",
       "      <td>0.0</td>\n",
       "    </tr>\n",
       "  </tbody>\n",
       "</table>\n",
       "</div>"
      ],
      "text/plain": [
       "   airline_code  admnum     fltno  visatype\n",
       "0      0.027009     0.0  0.006314       0.0"
      ]
     },
     "execution_count": 41,
     "metadata": {},
     "output_type": "execute_result"
    }
   ],
   "source": [
    "#show missing data\n",
    "percent_data(airline_dim)"
   ]
  },
  {
   "cell_type": "code",
   "execution_count": 42,
   "metadata": {
    "editable": true
   },
   "outputs": [
    {
     "data": {
      "text/plain": [
       "3011563"
      ]
     },
     "execution_count": 42,
     "metadata": {},
     "output_type": "execute_result"
    }
   ],
   "source": [
    "#drop missing data and duplicates\n",
    "airline_dim=airline_dim.dropna()\\\n",
    "                    .drop_duplicates()\n",
    "airline_dim.count()"
   ]
  },
  {
   "cell_type": "code",
   "execution_count": 44,
   "metadata": {
    "editable": true
   },
   "outputs": [
    {
     "data": {
      "text/html": [
       "<div>\n",
       "<style scoped>\n",
       "    .dataframe tbody tr th:only-of-type {\n",
       "        vertical-align: middle;\n",
       "    }\n",
       "\n",
       "    .dataframe tbody tr th {\n",
       "        vertical-align: top;\n",
       "    }\n",
       "\n",
       "    .dataframe thead th {\n",
       "        text-align: right;\n",
       "    }\n",
       "</style>\n",
       "<table border=\"1\" class=\"dataframe\">\n",
       "  <thead>\n",
       "    <tr style=\"text-align: right;\">\n",
       "      <th></th>\n",
       "      <th>airline_code</th>\n",
       "      <th>admnum</th>\n",
       "      <th>fltno</th>\n",
       "      <th>visatype</th>\n",
       "    </tr>\n",
       "  </thead>\n",
       "  <tbody>\n",
       "    <tr>\n",
       "      <th>0</th>\n",
       "      <td>0</td>\n",
       "      <td>0</td>\n",
       "      <td>0</td>\n",
       "      <td>0</td>\n",
       "    </tr>\n",
       "  </tbody>\n",
       "</table>\n",
       "</div>"
      ],
      "text/plain": [
       "   airline_code  admnum  fltno  visatype\n",
       "0             0       0      0         0"
      ]
     },
     "execution_count": 44,
     "metadata": {},
     "output_type": "execute_result"
    }
   ],
   "source": [
    "percent_data(airline_dim)"
   ]
  },
  {
   "cell_type": "markdown",
   "metadata": {
    "editable": true
   },
   "source": [
    "### Cleaning Visa Dimmension Table "
   ]
  },
  {
   "cell_type": "code",
   "execution_count": 45,
   "metadata": {
    "editable": true
   },
   "outputs": [
    {
     "data": {
      "text/html": [
       "<div>\n",
       "<style scoped>\n",
       "    .dataframe tbody tr th:only-of-type {\n",
       "        vertical-align: middle;\n",
       "    }\n",
       "\n",
       "    .dataframe tbody tr th {\n",
       "        vertical-align: top;\n",
       "    }\n",
       "\n",
       "    .dataframe thead th {\n",
       "        text-align: right;\n",
       "    }\n",
       "</style>\n",
       "<table border=\"1\" class=\"dataframe\">\n",
       "  <thead>\n",
       "    <tr style=\"text-align: right;\">\n",
       "      <th></th>\n",
       "      <th>Visa_id</th>\n",
       "      <th>visa_type</th>\n",
       "      <th>visapost</th>\n",
       "    </tr>\n",
       "  </thead>\n",
       "  <tbody>\n",
       "    <tr>\n",
       "      <th>0</th>\n",
       "      <td>0.0</td>\n",
       "      <td>0.0</td>\n",
       "      <td>0.607577</td>\n",
       "    </tr>\n",
       "  </tbody>\n",
       "</table>\n",
       "</div>"
      ],
      "text/plain": [
       "   Visa_id  visa_type  visapost\n",
       "0      0.0        0.0  0.607577"
      ]
     },
     "execution_count": 45,
     "metadata": {},
     "output_type": "execute_result"
    }
   ],
   "source": [
    "#show missing data\n",
    "percent_data(vis_dim)"
   ]
  },
  {
   "cell_type": "code",
   "execution_count": 46,
   "metadata": {
    "editable": true
   },
   "outputs": [
    {
     "data": {
      "text/plain": [
       "1212"
      ]
     },
     "execution_count": 46,
     "metadata": {},
     "output_type": "execute_result"
    }
   ],
   "source": [
    "#drop missing data and duplicates\n",
    "vis_dim=vis_dim.dropna()\\\n",
    "                    .drop_duplicates()\n",
    "vis_dim.count()"
   ]
  },
  {
   "cell_type": "code",
   "execution_count": 47,
   "metadata": {
    "editable": true
   },
   "outputs": [
    {
     "data": {
      "text/html": [
       "<div>\n",
       "<style scoped>\n",
       "    .dataframe tbody tr th:only-of-type {\n",
       "        vertical-align: middle;\n",
       "    }\n",
       "\n",
       "    .dataframe tbody tr th {\n",
       "        vertical-align: top;\n",
       "    }\n",
       "\n",
       "    .dataframe thead th {\n",
       "        text-align: right;\n",
       "    }\n",
       "</style>\n",
       "<table border=\"1\" class=\"dataframe\">\n",
       "  <thead>\n",
       "    <tr style=\"text-align: right;\">\n",
       "      <th></th>\n",
       "      <th>Visa_id</th>\n",
       "      <th>visa_type</th>\n",
       "      <th>visapost</th>\n",
       "    </tr>\n",
       "  </thead>\n",
       "  <tbody>\n",
       "    <tr>\n",
       "      <th>0</th>\n",
       "      <td>0</td>\n",
       "      <td>0</td>\n",
       "      <td>0</td>\n",
       "    </tr>\n",
       "  </tbody>\n",
       "</table>\n",
       "</div>"
      ],
      "text/plain": [
       "   Visa_id  visa_type  visapost\n",
       "0        0          0         0"
      ]
     },
     "execution_count": 47,
     "metadata": {},
     "output_type": "execute_result"
    }
   ],
   "source": [
    "percent_data(vis_dim)"
   ]
  },
  {
   "cell_type": "markdown",
   "metadata": {
    "editable": true
   },
   "source": [
    "### Cleaning Flag Dimmension"
   ]
  },
  {
   "cell_type": "code",
   "execution_count": 48,
   "metadata": {
    "editable": true
   },
   "outputs": [
    {
     "data": {
      "text/html": [
       "<div>\n",
       "<style scoped>\n",
       "    .dataframe tbody tr th:only-of-type {\n",
       "        vertical-align: middle;\n",
       "    }\n",
       "\n",
       "    .dataframe tbody tr th {\n",
       "        vertical-align: top;\n",
       "    }\n",
       "\n",
       "    .dataframe thead th {\n",
       "        text-align: right;\n",
       "    }\n",
       "</style>\n",
       "<table border=\"1\" class=\"dataframe\">\n",
       "  <thead>\n",
       "    <tr style=\"text-align: right;\">\n",
       "      <th></th>\n",
       "      <th>flag_id</th>\n",
       "      <th>Departure_Flag</th>\n",
       "      <th>Update_Flag</th>\n",
       "      <th>Match_Flag</th>\n",
       "    </tr>\n",
       "  </thead>\n",
       "  <tbody>\n",
       "    <tr>\n",
       "      <th>0</th>\n",
       "      <td>0.000077</td>\n",
       "      <td>0.044708</td>\n",
       "      <td>0.999873</td>\n",
       "      <td>0.044708</td>\n",
       "    </tr>\n",
       "  </tbody>\n",
       "</table>\n",
       "</div>"
      ],
      "text/plain": [
       "    flag_id  Departure_Flag  Update_Flag  Match_Flag\n",
       "0  0.000077        0.044708     0.999873    0.044708"
      ]
     },
     "execution_count": 48,
     "metadata": {},
     "output_type": "execute_result"
    }
   ],
   "source": [
    "percent_data(Flag_dimm)"
   ]
  },
  {
   "cell_type": "code",
   "execution_count": 49,
   "metadata": {
    "editable": true
   },
   "outputs": [],
   "source": [
    "#drop Update_Flag\n",
    "Flag_dimm=Flag_dimm.drop(\"Update_Flag\")"
   ]
  },
  {
   "cell_type": "code",
   "execution_count": 50,
   "metadata": {
    "editable": true
   },
   "outputs": [
    {
     "name": "stdout",
     "output_type": "stream",
     "text": [
      "+-------+--------------+----------+\n",
      "|flag_id|Departure_Flag|Match_Flag|\n",
      "+-------+--------------+----------+\n",
      "|      G|             O|         M|\n",
      "|      G|             O|         M|\n",
      "|      G|             O|         M|\n",
      "|      G|             O|         M|\n",
      "|      G|             O|         M|\n",
      "|      G|             O|         M|\n",
      "|      G|             O|         M|\n",
      "|      G|             O|         M|\n",
      "|      G|             O|         M|\n",
      "|      G|             O|         M|\n",
      "|      G|             O|         M|\n",
      "|      G|             O|         M|\n",
      "|      G|             O|         M|\n",
      "|      G|             O|         M|\n",
      "|      G|             O|         M|\n",
      "|      G|             O|         M|\n",
      "|      G|          null|      null|\n",
      "|      G|             O|         M|\n",
      "|      G|             O|         M|\n",
      "|      G|             O|         M|\n",
      "+-------+--------------+----------+\n",
      "only showing top 20 rows\n",
      "\n"
     ]
    }
   ],
   "source": [
    "Flag_dimm.show()"
   ]
  },
  {
   "cell_type": "code",
   "execution_count": 51,
   "metadata": {
    "editable": true
   },
   "outputs": [
    {
     "data": {
      "text/plain": [
       "84"
      ]
     },
     "execution_count": 51,
     "metadata": {},
     "output_type": "execute_result"
    }
   ],
   "source": [
    "#drop missing data and duplicates\n",
    "Flag_dimm=Flag_dimm.dropna()\\\n",
    "                    .drop_duplicates()\n",
    "Flag_dimm.count()"
   ]
  },
  {
   "cell_type": "code",
   "execution_count": 52,
   "metadata": {
    "editable": true
   },
   "outputs": [
    {
     "data": {
      "text/html": [
       "<div>\n",
       "<style scoped>\n",
       "    .dataframe tbody tr th:only-of-type {\n",
       "        vertical-align: middle;\n",
       "    }\n",
       "\n",
       "    .dataframe tbody tr th {\n",
       "        vertical-align: top;\n",
       "    }\n",
       "\n",
       "    .dataframe thead th {\n",
       "        text-align: right;\n",
       "    }\n",
       "</style>\n",
       "<table border=\"1\" class=\"dataframe\">\n",
       "  <thead>\n",
       "    <tr style=\"text-align: right;\">\n",
       "      <th></th>\n",
       "      <th>flag_id</th>\n",
       "      <th>Departure_Flag</th>\n",
       "      <th>Match_Flag</th>\n",
       "    </tr>\n",
       "  </thead>\n",
       "  <tbody>\n",
       "    <tr>\n",
       "      <th>0</th>\n",
       "      <td>0</td>\n",
       "      <td>0</td>\n",
       "      <td>0</td>\n",
       "    </tr>\n",
       "  </tbody>\n",
       "</table>\n",
       "</div>"
      ],
      "text/plain": [
       "   flag_id  Departure_Flag  Match_Flag\n",
       "0        0               0           0"
      ]
     },
     "execution_count": 52,
     "metadata": {},
     "output_type": "execute_result"
    }
   ],
   "source": [
    "percent_data(Flag_dimm)"
   ]
  },
  {
   "cell_type": "code",
   "execution_count": 53,
   "metadata": {
    "editable": true
   },
   "outputs": [
    {
     "name": "stdout",
     "output_type": "stream",
     "text": [
      "root\n",
      " |-- flag_id: string (nullable = true)\n",
      " |-- Departure_Flag: string (nullable = true)\n",
      " |-- Match_Flag: string (nullable = true)\n",
      "\n"
     ]
    }
   ],
   "source": [
    "#show data Schema\n",
    "Flag_dimm.printSchema()"
   ]
  },
  {
   "cell_type": "markdown",
   "metadata": {
    "editable": true
   },
   "source": [
    "### Cleaning Person dimmesion"
   ]
  },
  {
   "cell_type": "code",
   "execution_count": 54,
   "metadata": {
    "editable": true
   },
   "outputs": [
    {
     "data": {
      "text/html": [
       "<div>\n",
       "<style scoped>\n",
       "    .dataframe tbody tr th:only-of-type {\n",
       "        vertical-align: middle;\n",
       "    }\n",
       "\n",
       "    .dataframe tbody tr th {\n",
       "        vertical-align: top;\n",
       "    }\n",
       "\n",
       "    .dataframe thead th {\n",
       "        text-align: right;\n",
       "    }\n",
       "</style>\n",
       "<table border=\"1\" class=\"dataframe\">\n",
       "  <thead>\n",
       "    <tr style=\"text-align: right;\">\n",
       "      <th></th>\n",
       "      <th>Birth_Year</th>\n",
       "      <th>gender</th>\n",
       "      <th>person_id</th>\n",
       "    </tr>\n",
       "  </thead>\n",
       "  <tbody>\n",
       "    <tr>\n",
       "      <th>0</th>\n",
       "      <td>0.000259</td>\n",
       "      <td>0.133794</td>\n",
       "      <td>0.0</td>\n",
       "    </tr>\n",
       "  </tbody>\n",
       "</table>\n",
       "</div>"
      ],
      "text/plain": [
       "   Birth_Year    gender  person_id\n",
       "0    0.000259  0.133794        0.0"
      ]
     },
     "execution_count": 54,
     "metadata": {},
     "output_type": "execute_result"
    }
   ],
   "source": [
    "percent_data(Person_dimm)"
   ]
  },
  {
   "cell_type": "code",
   "execution_count": 55,
   "metadata": {
    "editable": true
   },
   "outputs": [
    {
     "data": {
      "text/plain": [
       "376"
      ]
     },
     "execution_count": 55,
     "metadata": {},
     "output_type": "execute_result"
    }
   ],
   "source": [
    "#drop missing data and duplicates\n",
    "Person_dimm=Person_dimm.dropna()\\\n",
    "                    .drop_duplicates()\n",
    "Person_dimm.count()"
   ]
  },
  {
   "cell_type": "code",
   "execution_count": 56,
   "metadata": {
    "editable": true
   },
   "outputs": [
    {
     "name": "stdout",
     "output_type": "stream",
     "text": [
      "root\n",
      " |-- Birth_Year: double (nullable = true)\n",
      " |-- gender: string (nullable = true)\n",
      " |-- person_id: string (nullable = true)\n",
      "\n"
     ]
    }
   ],
   "source": [
    "Person_dimm.printSchema()"
   ]
  },
  {
   "cell_type": "markdown",
   "metadata": {
    "editable": true
   },
   "source": [
    "### Cleaning model dimension"
   ]
  },
  {
   "cell_type": "code",
   "execution_count": 57,
   "metadata": {
    "editable": true
   },
   "outputs": [
    {
     "data": {
      "text/html": [
       "<div>\n",
       "<style scoped>\n",
       "    .dataframe tbody tr th:only-of-type {\n",
       "        vertical-align: middle;\n",
       "    }\n",
       "\n",
       "    .dataframe tbody tr th {\n",
       "        vertical-align: top;\n",
       "    }\n",
       "\n",
       "    .dataframe thead th {\n",
       "        text-align: right;\n",
       "    }\n",
       "</style>\n",
       "<table border=\"1\" class=\"dataframe\">\n",
       "  <thead>\n",
       "    <tr style=\"text-align: right;\">\n",
       "      <th></th>\n",
       "      <th>model_id</th>\n",
       "      <th>Model</th>\n",
       "    </tr>\n",
       "  </thead>\n",
       "  <tbody>\n",
       "    <tr>\n",
       "      <th>0</th>\n",
       "      <td>0.000077</td>\n",
       "      <td>0.0</td>\n",
       "    </tr>\n",
       "  </tbody>\n",
       "</table>\n",
       "</div>"
      ],
      "text/plain": [
       "   model_id  Model\n",
       "0  0.000077    0.0"
      ]
     },
     "execution_count": 57,
     "metadata": {},
     "output_type": "execute_result"
    }
   ],
   "source": [
    "percent_data(model_dimm)"
   ]
  },
  {
   "cell_type": "code",
   "execution_count": 58,
   "metadata": {
    "editable": true
   },
   "outputs": [
    {
     "data": {
      "text/plain": [
       "4"
      ]
     },
     "execution_count": 58,
     "metadata": {},
     "output_type": "execute_result"
    }
   ],
   "source": [
    "model_dimm=model_dimm.dropna()\\\n",
    "                    .drop_duplicates()\n",
    "model_dimm.count()"
   ]
  },
  {
   "cell_type": "markdown",
   "metadata": {
    "editable": true
   },
   "source": [
    "### Cleaning state Dimension "
   ]
  },
  {
   "cell_type": "code",
   "execution_count": 59,
   "metadata": {
    "editable": true
   },
   "outputs": [
    {
     "data": {
      "text/plain": [
       "City          0\n",
       "State         0\n",
       "state_code    0\n",
       "Race          0\n",
       "dtype: int64"
      ]
     },
     "execution_count": 59,
     "metadata": {},
     "output_type": "execute_result"
    }
   ],
   "source": [
    "#show missing data\n",
    "state_dimm.isnull().sum()"
   ]
  },
  {
   "cell_type": "code",
   "execution_count": 60,
   "metadata": {
    "editable": true
   },
   "outputs": [
    {
     "name": "stdout",
     "output_type": "stream",
     "text": [
      "<class 'pandas.core.frame.DataFrame'>\n",
      "RangeIndex: 2891 entries, 0 to 2890\n",
      "Data columns (total 4 columns):\n",
      "City          2891 non-null object\n",
      "State         2891 non-null object\n",
      "state_code    2891 non-null object\n",
      "Race          2891 non-null object\n",
      "dtypes: object(4)\n",
      "memory usage: 90.4+ KB\n"
     ]
    }
   ],
   "source": [
    "#show all types and details  about data\n",
    "state_dimm.info()"
   ]
  },
  {
   "cell_type": "code",
   "execution_count": 61,
   "metadata": {
    "editable": true
   },
   "outputs": [
    {
     "data": {
      "text/plain": [
       "0"
      ]
     },
     "execution_count": 61,
     "metadata": {},
     "output_type": "execute_result"
    }
   ],
   "source": [
    "#show duplicated data\n",
    "state_dimm.duplicated().sum()"
   ]
  },
  {
   "cell_type": "markdown",
   "metadata": {
    "editable": true
   },
   "source": [
    "### Cleaning Population Statistics Dimmension."
   ]
  },
  {
   "cell_type": "code",
   "execution_count": 62,
   "metadata": {
    "editable": true
   },
   "outputs": [
    {
     "data": {
      "text/plain": [
       "Median_Age                 0\n",
       "Male_Population            3\n",
       "Female_Population          3\n",
       "Total_Population           0\n",
       "Number_Veterans           13\n",
       "Foreign-born              13\n",
       "Average_Household Size    16\n",
       "State_Code                 0\n",
       "dtype: int64"
      ]
     },
     "execution_count": 62,
     "metadata": {},
     "output_type": "execute_result"
    }
   ],
   "source": [
    "#show missing data\n",
    "pop_stats_dimm.isnull().sum()"
   ]
  },
  {
   "cell_type": "code",
   "execution_count": 63,
   "metadata": {
    "editable": true
   },
   "outputs": [
    {
     "name": "stderr",
     "output_type": "stream",
     "text": [
      "/opt/conda/lib/python3.6/site-packages/ipykernel_launcher.py:2: SettingWithCopyWarning: \n",
      "A value is trying to be set on a copy of a slice from a DataFrame\n",
      "\n",
      "See the caveats in the documentation: http://pandas.pydata.org/pandas-docs/stable/indexing.html#indexing-view-versus-copy\n",
      "  \n"
     ]
    }
   ],
   "source": [
    "#drop missing data\n",
    "pop_stats_dimm.dropna(inplace=True)"
   ]
  },
  {
   "cell_type": "code",
   "execution_count": 64,
   "metadata": {
    "editable": true
   },
   "outputs": [
    {
     "data": {
      "text/plain": [
       "Median_Age                0\n",
       "Male_Population           0\n",
       "Female_Population         0\n",
       "Total_Population          0\n",
       "Number_Veterans           0\n",
       "Foreign-born              0\n",
       "Average_Household Size    0\n",
       "State_Code                0\n",
       "dtype: int64"
      ]
     },
     "execution_count": 64,
     "metadata": {},
     "output_type": "execute_result"
    }
   ],
   "source": [
    "\n",
    "pop_stats_dimm.isnull().sum()"
   ]
  },
  {
   "cell_type": "code",
   "execution_count": 65,
   "metadata": {
    "editable": true
   },
   "outputs": [
    {
     "data": {
      "text/plain": [
       "2287"
      ]
     },
     "execution_count": 65,
     "metadata": {},
     "output_type": "execute_result"
    }
   ],
   "source": [
    "#show duplicated data\n",
    "pop_stats_dimm.duplicated().sum()"
   ]
  },
  {
   "cell_type": "code",
   "execution_count": 66,
   "metadata": {
    "editable": true
   },
   "outputs": [
    {
     "name": "stderr",
     "output_type": "stream",
     "text": [
      "/opt/conda/lib/python3.6/site-packages/ipykernel_launcher.py:2: SettingWithCopyWarning: \n",
      "A value is trying to be set on a copy of a slice from a DataFrame\n",
      "\n",
      "See the caveats in the documentation: http://pandas.pydata.org/pandas-docs/stable/indexing.html#indexing-view-versus-copy\n",
      "  \n"
     ]
    }
   ],
   "source": [
    "#drop duplicated data\n",
    "pop_stats_dimm.drop_duplicates(inplace=True)"
   ]
  },
  {
   "cell_type": "code",
   "execution_count": 67,
   "metadata": {
    "editable": true
   },
   "outputs": [
    {
     "name": "stdout",
     "output_type": "stream",
     "text": [
      "<class 'pandas.core.frame.DataFrame'>\n",
      "Int64Index: 588 entries, 0 to 2726\n",
      "Data columns (total 8 columns):\n",
      "Median_Age                588 non-null float64\n",
      "Male_Population           588 non-null float64\n",
      "Female_Population         588 non-null float64\n",
      "Total_Population          588 non-null int64\n",
      "Number_Veterans           588 non-null float64\n",
      "Foreign-born              588 non-null float64\n",
      "Average_Household Size    588 non-null float64\n",
      "State_Code                588 non-null object\n",
      "dtypes: float64(6), int64(1), object(1)\n",
      "memory usage: 41.3+ KB\n"
     ]
    }
   ],
   "source": [
    "#show more details on data\n",
    "pop_stats_dimm.info()"
   ]
  },
  {
   "cell_type": "code",
   "execution_count": 68,
   "metadata": {
    "editable": true
   },
   "outputs": [
    {
     "data": {
      "text/html": [
       "<div>\n",
       "<style scoped>\n",
       "    .dataframe tbody tr th:only-of-type {\n",
       "        vertical-align: middle;\n",
       "    }\n",
       "\n",
       "    .dataframe tbody tr th {\n",
       "        vertical-align: top;\n",
       "    }\n",
       "\n",
       "    .dataframe thead th {\n",
       "        text-align: right;\n",
       "    }\n",
       "</style>\n",
       "<table border=\"1\" class=\"dataframe\">\n",
       "  <thead>\n",
       "    <tr style=\"text-align: right;\">\n",
       "      <th></th>\n",
       "      <th>Median_Age</th>\n",
       "      <th>Male_Population</th>\n",
       "      <th>Female_Population</th>\n",
       "      <th>Total_Population</th>\n",
       "      <th>Number_Veterans</th>\n",
       "      <th>Foreign-born</th>\n",
       "      <th>Average_Household Size</th>\n",
       "      <th>State_Code</th>\n",
       "    </tr>\n",
       "  </thead>\n",
       "  <tbody>\n",
       "    <tr>\n",
       "      <th>0</th>\n",
       "      <td>33.8</td>\n",
       "      <td>40601.0</td>\n",
       "      <td>41862.0</td>\n",
       "      <td>82463</td>\n",
       "      <td>1562.0</td>\n",
       "      <td>30908.0</td>\n",
       "      <td>2.60</td>\n",
       "      <td>MD</td>\n",
       "    </tr>\n",
       "    <tr>\n",
       "      <th>1</th>\n",
       "      <td>41.0</td>\n",
       "      <td>44129.0</td>\n",
       "      <td>49500.0</td>\n",
       "      <td>93629</td>\n",
       "      <td>4147.0</td>\n",
       "      <td>32935.0</td>\n",
       "      <td>2.39</td>\n",
       "      <td>MA</td>\n",
       "    </tr>\n",
       "    <tr>\n",
       "      <th>2</th>\n",
       "      <td>38.5</td>\n",
       "      <td>38040.0</td>\n",
       "      <td>46799.0</td>\n",
       "      <td>84839</td>\n",
       "      <td>4819.0</td>\n",
       "      <td>8229.0</td>\n",
       "      <td>2.58</td>\n",
       "      <td>AL</td>\n",
       "    </tr>\n",
       "    <tr>\n",
       "      <th>3</th>\n",
       "      <td>34.5</td>\n",
       "      <td>88127.0</td>\n",
       "      <td>87105.0</td>\n",
       "      <td>175232</td>\n",
       "      <td>5821.0</td>\n",
       "      <td>33878.0</td>\n",
       "      <td>3.18</td>\n",
       "      <td>CA</td>\n",
       "    </tr>\n",
       "    <tr>\n",
       "      <th>4</th>\n",
       "      <td>34.6</td>\n",
       "      <td>138040.0</td>\n",
       "      <td>143873.0</td>\n",
       "      <td>281913</td>\n",
       "      <td>5829.0</td>\n",
       "      <td>86253.0</td>\n",
       "      <td>2.73</td>\n",
       "      <td>NJ</td>\n",
       "    </tr>\n",
       "  </tbody>\n",
       "</table>\n",
       "</div>"
      ],
      "text/plain": [
       "   Median_Age  Male_Population  Female_Population  Total_Population  \\\n",
       "0        33.8          40601.0            41862.0             82463   \n",
       "1        41.0          44129.0            49500.0             93629   \n",
       "2        38.5          38040.0            46799.0             84839   \n",
       "3        34.5          88127.0            87105.0            175232   \n",
       "4        34.6         138040.0           143873.0            281913   \n",
       "\n",
       "   Number_Veterans  Foreign-born  Average_Household Size State_Code  \n",
       "0           1562.0       30908.0                    2.60         MD  \n",
       "1           4147.0       32935.0                    2.39         MA  \n",
       "2           4819.0        8229.0                    2.58         AL  \n",
       "3           5821.0       33878.0                    3.18         CA  \n",
       "4           5829.0       86253.0                    2.73         NJ  "
      ]
     },
     "execution_count": 68,
     "metadata": {},
     "output_type": "execute_result"
    }
   ],
   "source": [
    "pop_stats_dimm.head()"
   ]
  },
  {
   "cell_type": "markdown",
   "metadata": {
    "editable": true
   },
   "source": [
    "### Cleaning tempearture Dimmension"
   ]
  },
  {
   "cell_type": "code",
   "execution_count": 69,
   "metadata": {
    "editable": true
   },
   "outputs": [],
   "source": [
    "#show missing data\n",
    "missing_data=temp_dimm.isnull().sum().reset_index()\n",
    "missing_data.columns=[\"cols\",\"counts\"]"
   ]
  },
  {
   "cell_type": "code",
   "execution_count": 70,
   "metadata": {
    "editable": true
   },
   "outputs": [
    {
     "data": {
      "text/plain": [
       "8599212"
      ]
     },
     "execution_count": 70,
     "metadata": {},
     "output_type": "execute_result"
    }
   ],
   "source": [
    "temp_dimm.count()[0]"
   ]
  },
  {
   "cell_type": "code",
   "execution_count": 71,
   "metadata": {
    "editable": true
   },
   "outputs": [
    {
     "data": {
      "text/html": [
       "<div>\n",
       "<style scoped>\n",
       "    .dataframe tbody tr th:only-of-type {\n",
       "        vertical-align: middle;\n",
       "    }\n",
       "\n",
       "    .dataframe tbody tr th {\n",
       "        vertical-align: top;\n",
       "    }\n",
       "\n",
       "    .dataframe thead th {\n",
       "        text-align: right;\n",
       "    }\n",
       "</style>\n",
       "<table border=\"1\" class=\"dataframe\">\n",
       "  <thead>\n",
       "    <tr style=\"text-align: right;\">\n",
       "      <th></th>\n",
       "      <th>cols</th>\n",
       "      <th>counts</th>\n",
       "      <th>percent_NaN</th>\n",
       "    </tr>\n",
       "  </thead>\n",
       "  <tbody>\n",
       "    <tr>\n",
       "      <th>0</th>\n",
       "      <td>dt</td>\n",
       "      <td>0</td>\n",
       "      <td>0.000000</td>\n",
       "    </tr>\n",
       "    <tr>\n",
       "      <th>1</th>\n",
       "      <td>AverageTemperature</td>\n",
       "      <td>364130</td>\n",
       "      <td>0.042345</td>\n",
       "    </tr>\n",
       "    <tr>\n",
       "      <th>2</th>\n",
       "      <td>AverageTemperatureUncertainty</td>\n",
       "      <td>364130</td>\n",
       "      <td>0.042345</td>\n",
       "    </tr>\n",
       "    <tr>\n",
       "      <th>3</th>\n",
       "      <td>City</td>\n",
       "      <td>0</td>\n",
       "      <td>0.000000</td>\n",
       "    </tr>\n",
       "    <tr>\n",
       "      <th>4</th>\n",
       "      <td>Country</td>\n",
       "      <td>0</td>\n",
       "      <td>0.000000</td>\n",
       "    </tr>\n",
       "  </tbody>\n",
       "</table>\n",
       "</div>"
      ],
      "text/plain": [
       "                            cols  counts  percent_NaN\n",
       "0                             dt       0     0.000000\n",
       "1             AverageTemperature  364130     0.042345\n",
       "2  AverageTemperatureUncertainty  364130     0.042345\n",
       "3                           City       0     0.000000\n",
       "4                        Country       0     0.000000"
      ]
     },
     "execution_count": 71,
     "metadata": {},
     "output_type": "execute_result"
    }
   ],
   "source": [
    "missing_data[\"percent_NaN\"]=missing_data[\"counts\"]/temp_dimm.count()[0]\n",
    "missing_data"
   ]
  },
  {
   "cell_type": "code",
   "execution_count": 72,
   "metadata": {
    "editable": true
   },
   "outputs": [
    {
     "name": "stderr",
     "output_type": "stream",
     "text": [
      "/opt/conda/lib/python3.6/site-packages/ipykernel_launcher.py:2: SettingWithCopyWarning: \n",
      "A value is trying to be set on a copy of a slice from a DataFrame\n",
      "\n",
      "See the caveats in the documentation: http://pandas.pydata.org/pandas-docs/stable/indexing.html#indexing-view-versus-copy\n",
      "  \n"
     ]
    }
   ],
   "source": [
    "#drop missing data\n",
    "temp_dimm.dropna(inplace=True)"
   ]
  },
  {
   "cell_type": "code",
   "execution_count": 73,
   "metadata": {
    "editable": true
   },
   "outputs": [
    {
     "data": {
      "text/plain": [
       "0"
      ]
     },
     "execution_count": 73,
     "metadata": {},
     "output_type": "execute_result"
    }
   ],
   "source": [
    "#show duplicated data\n",
    "pop_stats_dimm.duplicated().sum()"
   ]
  },
  {
   "cell_type": "code",
   "execution_count": 74,
   "metadata": {
    "editable": true
   },
   "outputs": [
    {
     "data": {
      "text/plain": [
       "Median_Age                0\n",
       "Male_Population           0\n",
       "Female_Population         0\n",
       "Total_Population          0\n",
       "Number_Veterans           0\n",
       "Foreign-born              0\n",
       "Average_Household Size    0\n",
       "State_Code                0\n",
       "dtype: int64"
      ]
     },
     "execution_count": 74,
     "metadata": {},
     "output_type": "execute_result"
    }
   ],
   "source": [
    "#check missing data\n",
    "pop_stats_dimm.isnull().sum()"
   ]
  },
  {
   "cell_type": "markdown",
   "metadata": {
    "editable": true
   },
   "source": [
    "### Step 3: Define the Data Model\n",
    "#### 3.1 Conceptual Data Model\n",
    "we will work with star schema for Bi Teams and analytics we will extract some information about immigration and know more analyis about that\n",
    "\n",
    "issue,I used star schema because easy for all to understand and efficent in query because denormalized model unlike snowflake schema \n",
    "\n",
    "that model contains \n",
    "\n",
    "fact table->it is about bussiness metrics like sales ,profits,number of employess.\n",
    "\n",
    "dimension tables that surrounds fact table by keys(which link them):they are context that answer why ,how ,where ,when.\n",
    "\n",
    "#### 3.2 Mapping Out Data Pipelines\n",
    "we do ETL Pipline Process:\n",
    "\n",
    "\n",
    "Extracting data from different sources sas_data,us-cities-demographics.csv,../../data2/GlobalLandTemperaturesByCity.csv\n",
    "\n",
    "transform process:from spliting fact table ,dimension tables ,cleaning , edit data_types  to get final data for  loading in destination source\n",
    "\n",
    "\n",
    "\n",
    "Load Process:load final data in s3 storage"
   ]
  },
  {
   "cell_type": "markdown",
   "metadata": {
    "editable": true
   },
   "source": [
    "### Step 4: Run Pipelines to Model the Data \n",
    "#### 4.1 Create the data model\n",
    "Build the data pipelines to create the data model.\n"
   ]
  },
  {
   "cell_type": "markdown",
   "metadata": {
    "editable": true
   },
   "source": [
    "### I Created python code to run ETL"
   ]
  },
  {
   "cell_type": "markdown",
   "metadata": {
    "editable": true
   },
   "source": [
    "### We Created Data Model Above in "
   ]
  },
  {
   "cell_type": "markdown",
   "metadata": {
    "editable": true
   },
   "source": [
    "#### 4.2 Data Quality Checks\n",
    "Explain the data quality checks you'll perform to ensure the pipeline ran as expected. These could include:\n",
    " * Integrity constraints on the relational database (e.g., unique key, data type, etc.)\n",
    " * Unit tests for the scripts to ensure they are doing the right thing\n",
    " * Source/Count checks to ensure completeness\n",
    " \n",
    "Run Quality Checks"
   ]
  },
  {
   "cell_type": "code",
   "execution_count": 7,
   "metadata": {
    "editable": true
   },
   "outputs": [
    {
     "name": "stdout",
     "output_type": "stream",
     "text": [
      "airline_table/\n",
      "fact_table/\n",
      "flag_table/\n",
      "model_table/\n",
      "person_table/\n",
      "pop_stats_table/\n",
      "state_table/\n",
      "temp_table/\n",
      "visa_table/\n"
     ]
    }
   ],
   "source": [
    "#Extract files path\n",
    "conn = S3Connection(AWS_ACCESS_KEY_ID ,AWS_SECRET_ACCESS_KEY)\n",
    "bucket = conn.get_bucket(\"awssparks195\")\n",
    "folders = bucket.list('', '/')\n",
    "folder_list=[]\n",
    "s3_bucket=\"s3a://awssparks195/\"\n",
    "tables_list=[]\n",
    "for folder in folders:\n",
    "    print(folder.name)\n",
    "    tables_list.append(folder.name)\n",
    "    folder_list.append(s3_bucket+str(folder.name))"
   ]
  },
  {
   "cell_type": "code",
   "execution_count": 8,
   "metadata": {
    "editable": true
   },
   "outputs": [],
   "source": [
    "# Perform quality checks here\n",
    "#read Data\n",
    "def check_data(spark,paths,tables):\n",
    "    \"\"\"\n",
    "    check data quality for numbers of rows\n",
    "    \"\"\"\n",
    "    for p,t in zip(paths,tables):\n",
    "        df=spark.read.parquet(p)\n",
    "        count_df=df.count()\n",
    "        if count_df<1:\n",
    "            print(\"table not have data\")\n",
    "        else:\n",
    "            print(f\"the table {t} has {count_df} rows\") "
   ]
  },
  {
   "cell_type": "code",
   "execution_count": 9,
   "metadata": {
    "editable": true
   },
   "outputs": [
    {
     "name": "stdout",
     "output_type": "stream",
     "text": [
      "the table airline_table/ has 966 rows\n",
      "the table fact_table/ has 880 rows\n",
      "the table flag_table/ has 29 rows\n",
      "the table model_table/ has 4 rows\n",
      "the table person_table/ has 161 rows\n",
      "the table pop_stats_table/ has 588 rows\n",
      "the table state_table/ has 2891 rows\n",
      "the table temp_table/ has 8235082 rows\n",
      "the table visa_table/ has 140 rows\n"
     ]
    }
   ],
   "source": [
    "check_data(spark,folder_list,tables_list)"
   ]
  },
  {
   "cell_type": "code",
   "execution_count": 10,
   "metadata": {
    "editable": true
   },
   "outputs": [],
   "source": [
    "def check_schema(spark,paths,tables):\n",
    "    \"\"\"\n",
    "    check data quality for numbers of rows\n",
    "    \"\"\"\n",
    "    for p,t in zip(paths,tables):\n",
    "        df=spark.read.parquet(p)\n",
    "        schema=df.printSchema()\n",
    "        print(f\"the table {t}\\n {schema}\") \n",
    "        "
   ]
  },
  {
   "cell_type": "code",
   "execution_count": 11,
   "metadata": {
    "editable": true
   },
   "outputs": [
    {
     "name": "stdout",
     "output_type": "stream",
     "text": [
      "root\n",
      " |-- airline_code: string (nullable = true)\n",
      " |-- admnum: string (nullable = true)\n",
      " |-- fltno: string (nullable = true)\n",
      " |-- visatype: string (nullable = true)\n",
      "\n",
      "the table airline_table/\n",
      " None\n",
      "root\n",
      " |-- fact_id: string (nullable = true)\n",
      " |-- year: string (nullable = true)\n",
      " |-- month: string (nullable = true)\n",
      " |-- city_code: string (nullable = true)\n",
      " |-- state_code: string (nullable = true)\n",
      " |-- arrival_date: string (nullable = true)\n",
      " |-- departure_date: string (nullable = true)\n",
      " |-- Visa_id: string (nullable = true)\n",
      " |-- airline_code: string (nullable = true)\n",
      " |-- flag_id: string (nullable = true)\n",
      " |-- model_id: string (nullable = true)\n",
      " |-- person_id: string (nullable = true)\n",
      "\n",
      "the table fact_table/\n",
      " None\n",
      "root\n",
      " |-- flag_id: string (nullable = true)\n",
      " |-- Departure_Flag: string (nullable = true)\n",
      " |-- Match_Flag: string (nullable = true)\n",
      "\n",
      "the table flag_table/\n",
      " None\n",
      "root\n",
      " |-- model_id: string (nullable = true)\n",
      " |-- Model: string (nullable = true)\n",
      "\n",
      "the table model_table/\n",
      " None\n",
      "root\n",
      " |-- Birth_Year: string (nullable = true)\n",
      " |-- gender: string (nullable = true)\n",
      " |-- person_id: string (nullable = true)\n",
      "\n",
      "the table person_table/\n",
      " None\n",
      "root\n",
      " |-- Median_Age: string (nullable = true)\n",
      " |-- Male_Population: string (nullable = true)\n",
      " |-- Female_Population: string (nullable = true)\n",
      " |-- Total_Population: string (nullable = true)\n",
      " |-- Number_Veterans: string (nullable = true)\n",
      " |-- Foreign-born: string (nullable = true)\n",
      " |-- Average_Household: string (nullable = true)\n",
      " |-- State_Code: string (nullable = true)\n",
      "\n",
      "the table pop_stats_table/\n",
      " None\n",
      "root\n",
      " |-- City: string (nullable = true)\n",
      " |-- State: string (nullable = true)\n",
      " |-- state_code: string (nullable = true)\n",
      " |-- Race: string (nullable = true)\n",
      "\n",
      "the table state_table/\n",
      " None\n",
      "root\n",
      " |-- dt: string (nullable = true)\n",
      " |-- Avg_Temp: string (nullable = true)\n",
      " |-- Avg_Temp_Uncertainty: string (nullable = true)\n",
      " |-- City: string (nullable = true)\n",
      " |-- Country: string (nullable = true)\n",
      "\n",
      "the table temp_table/\n",
      " None\n",
      "root\n",
      " |-- Visa_id: string (nullable = true)\n",
      " |-- visa_type: string (nullable = true)\n",
      " |-- visapost: string (nullable = true)\n",
      "\n",
      "the table visa_table/\n",
      " None\n"
     ]
    }
   ],
   "source": [
    "check_schema(spark,folder_list,tables_list)"
   ]
  },
  {
   "cell_type": "markdown",
   "metadata": {
    "editable": true
   },
   "source": [
    "###Change types  for my tables"
   ]
  },
  {
   "cell_type": "code",
   "execution_count": 12,
   "metadata": {
    "editable": true
   },
   "outputs": [],
   "source": [
    "tables_name=['airline_table',\n",
    " 'fact_table',\n",
    " 'flag_table',\n",
    " 'model_table',\n",
    " 'person_table',\n",
    " 'pop_stats_table',\n",
    " 'state_table',\n",
    " 'temp_table',\n",
    " 'visa_table']"
   ]
  },
  {
   "cell_type": "code",
   "execution_count": 13,
   "metadata": {
    "editable": true
   },
   "outputs": [],
   "source": [
    "#read all tables\n",
    "airline_table=spark.read.parquet('s3a://awssparks195/airline_table')\n",
    "fact_table=spark.read.parquet('s3a://awssparks195/fact_table')\n",
    "flag_table=spark.read.parquet('s3a://awssparks195/flag_table')\n",
    "model_table=spark.read.parquet('s3a://awssparks195/model_table')\n",
    "person_table=spark.read.parquet('s3a://awssparks195/person_table')\n",
    "pop_stats_table=spark.read.parquet('s3a://awssparks195/pop_stats_table')\n",
    "state_table=spark.read.parquet('s3a://awssparks195/state_table')\n",
    "temp_table=spark.read.parquet('s3a://awssparks195/temp_table')\n",
    "visa_table=spark.read.parquet('s3a://awssparks195/visa_table')"
   ]
  },
  {
   "cell_type": "code",
   "execution_count": 11,
   "metadata": {
    "editable": true
   },
   "outputs": [
    {
     "name": "stdout",
     "output_type": "stream",
     "text": [
      "+--------+------------+\n",
      "|model_id|       Model|\n",
      "+--------+------------+\n",
      "|     9.0|Not reported|\n",
      "|     3.0|        Land|\n",
      "|     1.0|         Air|\n",
      "|     2.0|         Sea|\n",
      "+--------+------------+\n",
      "\n"
     ]
    }
   ],
   "source": [
    "model_table.show()"
   ]
  },
  {
   "cell_type": "code",
   "execution_count": 14,
   "metadata": {
    "editable": true
   },
   "outputs": [],
   "source": [
    "#Change data types\n",
    "#fact_table\n",
    "fact_table=fact_table.withColumn('fact_id',fact_table[\"fact_id\"].cast(StringType()))\\\n",
    "                    .withColumn('year',fact_table[\"year\"].cast(IntegerType())) \\\n",
    "                    .withColumn('month',fact_table[\"month\"].cast(IntegerType())) \\\n",
    "                    .withColumn('city_code',fact_table[\"city_code\"].cast(StringType())) \\\n",
    "                    .withColumn('state_code',fact_table[\"state_code\"].cast(StringType())) \\\n",
    "                    .withColumn('arrival_date',fact_table[\"arrival_date\"].cast(DateType())) \\\n",
    "                    .withColumn('departure_date',fact_table[\"departure_date\"].cast(DateType())) \\\n",
    "                    .withColumn('Visa_id',fact_table[\"Visa_id\"].cast(StringType())) \\\n",
    "                    .withColumn('airline_code',fact_table[\"airline_code\"].cast(StringType())) \\\n",
    "                    .withColumn('airline_code',fact_table[\"flag_id\"].cast(StringType())) \\\n",
    "                    .withColumn('flag_id',fact_table[\"model_id\"].cast(StringType())) \\\n",
    "                    .withColumn('person_id',fact_table[\"person_id\"].cast(StringType())) \\\n",
    "                    \n",
    "#flag_table\n",
    "flag_table=flag_table.withColumn('flag_id',flag_table[\"flag_id\"].cast(StringType()))\\\n",
    "                    .withColumn('Departure_Flag',flag_table[\"Departure_Flag\"].cast(StringType()))\\\n",
    "                    .withColumn('Match_Flag',flag_table[\"Match_Flag\"].cast(StringType()))\n",
    "#person_table   \n",
    "person_table=person_table.withColumn('Birth_Year',person_table[\"Birth_Year\"].cast(IntegerType()))\\\n",
    "                         .withColumn('gender',person_table[\"gender\"].cast(StringType()))\\\n",
    "                         .withColumn('person_id',person_table[\"person_id\"].cast(StringType()))\n",
    "#pop_stats\n",
    "pop_stats_table=pop_stats_table.withColumn('Median_Age',pop_stats_table[\"Median_Age\"].cast(DoubleType()))\\\n",
    "                                .withColumn('Male_Population',pop_stats_table[\"Male_Population\"].cast(DoubleType()))\\\n",
    "                                .withColumn('Female_Population',pop_stats_table[\"Female_Population\"].cast(DoubleType()))\\\n",
    "                                .withColumn('Total_Population',pop_stats_table[\"Total_Population\"].cast(DoubleType()))\\\n",
    "                                .withColumn('Number_Veterans',pop_stats_table[\"Number_Veterans\"].cast(DoubleType()))\\\n",
    "                                .withColumn('Foreign-born',pop_stats_table[\"Foreign-born\"].cast(DoubleType()))\\\n",
    "                                .withColumn('Average_Household',pop_stats_table[\"Average_Household\"].cast(DoubleType()))\\\n",
    "                                .withColumn('State_Code',pop_stats_table[\"State_Code\"].cast(StringType()))\n",
    "#temp_table\n",
    "temp_table=temp_table.withColumn('dt',temp_table[\"dt\"].cast(DateType()))\\\n",
    "                    .withColumn('Avg_Temp',temp_table[\"Avg_Temp\"].cast(DoubleType()))\\\n",
    "                    .withColumn('Avg_Temp_Uncertainty',temp_table[\"Avg_Temp_Uncertainty\"].cast(DoubleType()))\\\n",
    "                    .withColumn('City',temp_table[\"City\"].cast(StringType()))\\\n",
    "                    .withColumn('Country ',temp_table[\"Country\"].cast(StringType()))\n",
    "\n",
    "\n",
    "#airline_table\n",
    "airline_table=airline_table.withColumn(\"airline_code\",airline_table[\"airline_code\"]\n",
    "                                .cast(StringType()))\\\n",
    "                           .withColumn(\"admnum\",airline_table[\"admnum\"].cast(DoubleType()))\\\n",
    "                           .withColumn(\"fltno\",airline_table[\"fltno\"].cast(StringType()))\\\n",
    "                           .withColumn(\"visatype\",airline_table[\"visatype\"].cast(StringType()))"
   ]
  },
  {
   "cell_type": "code",
   "execution_count": 41,
   "metadata": {
    "editable": true
   },
   "outputs": [],
   "source": []
  },
  {
   "cell_type": "code",
   "execution_count": 13,
   "metadata": {
    "editable": true
   },
   "outputs": [
    {
     "name": "stdout",
     "output_type": "stream",
     "text": [
      "root\n",
      " |-- dt: date (nullable = true)\n",
      " |-- Avg_Temp: double (nullable = true)\n",
      " |-- Avg_Temp_Uncertainty: double (nullable = true)\n",
      " |-- City: string (nullable = true)\n",
      " |-- Country: string (nullable = true)\n",
      " |-- Country : string (nullable = true)\n",
      "\n"
     ]
    }
   ],
   "source": [
    "temp_table.printSchema()"
   ]
  },
  {
   "cell_type": "markdown",
   "metadata": {
    "editable": true
   },
   "source": [
    "#### Check data count rows "
   ]
  },
  {
   "cell_type": "markdown",
   "metadata": {
    "editable": true
   },
   "source": [
    "#### 4.3 Data dictionary \n",
    "Create a data dictionary for your data model. For each field, provide a brief description of what the data is and where it came from. You can include the data dictionary in the notebook or in a separate file."
   ]
  },
  {
   "cell_type": "markdown",
   "metadata": {
    "editable": true
   },
   "source": [
    "### Fact_table"
   ]
  },
  {
   "cell_type": "code",
   "execution_count": 9,
   "metadata": {
    "editable": true
   },
   "outputs": [],
   "source": [
    "\n",
    "\n",
    "dict_fact={'Cols':['fact_id',\n",
    "'year',\n",
    "'month',\n",
    "'city_code',\n",
    "'State_code',\n",
    "'arrival_date',\n",
    "'departure_date',\n",
    "'occupation',\n",
    "'visa_id',\n",
    "'airline_code',\n",
    "'flag_id',\n",
    "'model_id',\n",
    "'person_id'],'Features':[\"Primary Key.\",\n",
    "\"4 digit year.\",\n",
    "\"1 digit month.\",\n",
    "\"3 digit for the country code where the visitor born.\",\n",
    "\"State of arrival.FK to State_dimm.,the Arrival Date in the USA.\",\n",
    "\"the arrival Date in the USA.\",\n",
    "\"the departure Date in the USA.\"\n",
    ",\"Occupation that will be performed in U.S.\",\n",
    "\"FK to visa_dimm\"\n",
    ",\"FK to airline_dimm\"\n",
    ",\"FK to flag_dimm\",\n",
    "\"FK to model_dimm\"\n",
    ",\"FK to person_dimm\"]}\n"
   ]
  },
  {
   "cell_type": "code",
   "execution_count": 10,
   "metadata": {
    "editable": true
   },
   "outputs": [
    {
     "data": {
      "text/html": [
       "<div>\n",
       "<style scoped>\n",
       "    .dataframe tbody tr th:only-of-type {\n",
       "        vertical-align: middle;\n",
       "    }\n",
       "\n",
       "    .dataframe tbody tr th {\n",
       "        vertical-align: top;\n",
       "    }\n",
       "\n",
       "    .dataframe thead th {\n",
       "        text-align: right;\n",
       "    }\n",
       "</style>\n",
       "<table border=\"1\" class=\"dataframe\">\n",
       "  <thead>\n",
       "    <tr style=\"text-align: right;\">\n",
       "      <th></th>\n",
       "      <th>Cols</th>\n",
       "      <th>Features</th>\n",
       "    </tr>\n",
       "  </thead>\n",
       "  <tbody>\n",
       "    <tr>\n",
       "      <th>0</th>\n",
       "      <td>fact_id</td>\n",
       "      <td>Primary Key.</td>\n",
       "    </tr>\n",
       "    <tr>\n",
       "      <th>1</th>\n",
       "      <td>year</td>\n",
       "      <td>4 digit year.</td>\n",
       "    </tr>\n",
       "    <tr>\n",
       "      <th>2</th>\n",
       "      <td>month</td>\n",
       "      <td>1 digit month.</td>\n",
       "    </tr>\n",
       "    <tr>\n",
       "      <th>3</th>\n",
       "      <td>city_code</td>\n",
       "      <td>3 digit for the country code where the visitor...</td>\n",
       "    </tr>\n",
       "    <tr>\n",
       "      <th>4</th>\n",
       "      <td>State_code</td>\n",
       "      <td>State of arrival.FK to State_dimm.,the Arrival...</td>\n",
       "    </tr>\n",
       "    <tr>\n",
       "      <th>5</th>\n",
       "      <td>arrival_date</td>\n",
       "      <td>the arrival Date in the USA.</td>\n",
       "    </tr>\n",
       "    <tr>\n",
       "      <th>6</th>\n",
       "      <td>departure_date</td>\n",
       "      <td>the departure Date in the USA.</td>\n",
       "    </tr>\n",
       "    <tr>\n",
       "      <th>7</th>\n",
       "      <td>occupation</td>\n",
       "      <td>Occupation that will be performed in U.S.</td>\n",
       "    </tr>\n",
       "    <tr>\n",
       "      <th>8</th>\n",
       "      <td>visa_id</td>\n",
       "      <td>FK to visa_dimm</td>\n",
       "    </tr>\n",
       "    <tr>\n",
       "      <th>9</th>\n",
       "      <td>airline_code</td>\n",
       "      <td>FK to airline_dimm</td>\n",
       "    </tr>\n",
       "    <tr>\n",
       "      <th>10</th>\n",
       "      <td>flag_id</td>\n",
       "      <td>FK to flag_dimm</td>\n",
       "    </tr>\n",
       "    <tr>\n",
       "      <th>11</th>\n",
       "      <td>model_id</td>\n",
       "      <td>FK to model_dimm</td>\n",
       "    </tr>\n",
       "    <tr>\n",
       "      <th>12</th>\n",
       "      <td>person_id</td>\n",
       "      <td>FK to person_dimm</td>\n",
       "    </tr>\n",
       "  </tbody>\n",
       "</table>\n",
       "</div>"
      ],
      "text/plain": [
       "              Cols                                           Features\n",
       "0          fact_id                                       Primary Key.\n",
       "1             year                                      4 digit year.\n",
       "2            month                                     1 digit month.\n",
       "3        city_code  3 digit for the country code where the visitor...\n",
       "4       State_code  State of arrival.FK to State_dimm.,the Arrival...\n",
       "5     arrival_date                       the arrival Date in the USA.\n",
       "6   departure_date                     the departure Date in the USA.\n",
       "7       occupation          Occupation that will be performed in U.S.\n",
       "8          visa_id                                    FK to visa_dimm\n",
       "9     airline_code                                 FK to airline_dimm\n",
       "10         flag_id                                    FK to flag_dimm\n",
       "11        model_id                                   FK to model_dimm\n",
       "12       person_id                                  FK to person_dimm"
      ]
     },
     "execution_count": 10,
     "metadata": {},
     "output_type": "execute_result"
    }
   ],
   "source": [
    "fact_fdict=pd.DataFrame(dict_fact)\n",
    "fact_fdict"
   ]
  },
  {
   "cell_type": "markdown",
   "metadata": {
    "editable": true
   },
   "source": [
    "### airline_dimm"
   ]
  },
  {
   "cell_type": "code",
   "execution_count": 11,
   "metadata": {
    "editable": true
   },
   "outputs": [
    {
     "data": {
      "text/html": [
       "<div>\n",
       "<style scoped>\n",
       "    .dataframe tbody tr th:only-of-type {\n",
       "        vertical-align: middle;\n",
       "    }\n",
       "\n",
       "    .dataframe tbody tr th {\n",
       "        vertical-align: top;\n",
       "    }\n",
       "\n",
       "    .dataframe thead th {\n",
       "        text-align: right;\n",
       "    }\n",
       "</style>\n",
       "<table border=\"1\" class=\"dataframe\">\n",
       "  <thead>\n",
       "    <tr style=\"text-align: right;\">\n",
       "      <th></th>\n",
       "      <th>cols</th>\n",
       "      <th>descrption</th>\n",
       "    </tr>\n",
       "  </thead>\n",
       "  <tbody>\n",
       "    <tr>\n",
       "      <th>0</th>\n",
       "      <td>airline_code</td>\n",
       "      <td>Primary Key</td>\n",
       "    </tr>\n",
       "    <tr>\n",
       "      <th>1</th>\n",
       "      <td>adnum</td>\n",
       "      <td>Admission Number</td>\n",
       "    </tr>\n",
       "    <tr>\n",
       "      <th>2</th>\n",
       "      <td>flno</td>\n",
       "      <td>Flight number of Airline used to arrive in U.S.</td>\n",
       "    </tr>\n",
       "    <tr>\n",
       "      <th>3</th>\n",
       "      <td>visatype</td>\n",
       "      <td>Class of admission legally admitting the non-i...</td>\n",
       "    </tr>\n",
       "  </tbody>\n",
       "</table>\n",
       "</div>"
      ],
      "text/plain": [
       "           cols                                         descrption\n",
       "0  airline_code                                        Primary Key\n",
       "1         adnum                                   Admission Number\n",
       "2          flno    Flight number of Airline used to arrive in U.S.\n",
       "3      visatype  Class of admission legally admitting the non-i..."
      ]
     },
     "execution_count": 11,
     "metadata": {},
     "output_type": "execute_result"
    }
   ],
   "source": [
    "airline_dict=pd.DataFrame({\"cols\":\n",
    "                           ['airline_code','adnum','flno','visatype'],\n",
    "                           \"descrption\":\n",
    "                           [\"Primary Key\",\"Admission Number\",\"Flight number of Airline used to arrive in U.S.\",\n",
    "                            \"Class of admission legally admitting the non-immigrant to temporarily stay in U.S.\"]})\n",
    "airline_dict"
   ]
  },
  {
   "cell_type": "markdown",
   "metadata": {
    "editable": true
   },
   "source": [
    "### Flag_dimm"
   ]
  },
  {
   "cell_type": "code",
   "execution_count": 12,
   "metadata": {
    "editable": true
   },
   "outputs": [
    {
     "data": {
      "text/html": [
       "<div>\n",
       "<style scoped>\n",
       "    .dataframe tbody tr th:only-of-type {\n",
       "        vertical-align: middle;\n",
       "    }\n",
       "\n",
       "    .dataframe tbody tr th {\n",
       "        vertical-align: top;\n",
       "    }\n",
       "\n",
       "    .dataframe thead th {\n",
       "        text-align: right;\n",
       "    }\n",
       "</style>\n",
       "<table border=\"1\" class=\"dataframe\">\n",
       "  <thead>\n",
       "    <tr style=\"text-align: right;\">\n",
       "      <th></th>\n",
       "      <th>cols</th>\n",
       "      <th>Descrption</th>\n",
       "    </tr>\n",
       "  </thead>\n",
       "  <tbody>\n",
       "    <tr>\n",
       "      <th>0</th>\n",
       "      <td>flag_id</td>\n",
       "      <td>admitted or paroled into the U.S .Primary Key</td>\n",
       "    </tr>\n",
       "    <tr>\n",
       "      <th>1</th>\n",
       "      <td>Departure_Flag</td>\n",
       "      <td>Departed, lost I-94 or is deceased</td>\n",
       "    </tr>\n",
       "    <tr>\n",
       "      <th>2</th>\n",
       "      <td>Update_Flag</td>\n",
       "      <td>Either apprehended, overstayed, adjusted to pe...</td>\n",
       "    </tr>\n",
       "    <tr>\n",
       "      <th>3</th>\n",
       "      <td>Match_Flag</td>\n",
       "      <td>Match of arrival and departure records</td>\n",
       "    </tr>\n",
       "  </tbody>\n",
       "</table>\n",
       "</div>"
      ],
      "text/plain": [
       "             cols                                         Descrption\n",
       "0         flag_id      admitted or paroled into the U.S .Primary Key\n",
       "1  Departure_Flag                 Departed, lost I-94 or is deceased\n",
       "2     Update_Flag  Either apprehended, overstayed, adjusted to pe...\n",
       "3      Match_Flag             Match of arrival and departure records"
      ]
     },
     "execution_count": 12,
     "metadata": {},
     "output_type": "execute_result"
    }
   ],
   "source": [
    "flag_dict=pd.DataFrame({'cols':\n",
    "                        [\"flag_id\",'Departure_Flag','Update_Flag','Match_Flag'],\n",
    "                        \n",
    "                        \"Descrption\":[\"admitted or paroled into the U.S .Primary Key\",\"Departed, lost I-94 or is deceased\",\n",
    "                                      \"Either apprehended, overstayed, adjusted to perm residence\"\n",
    "                                      ,\"Match of arrival and departure records\"]\n",
    "                       \n",
    "                       })\n",
    "flag_dict"
   ]
  },
  {
   "cell_type": "markdown",
   "metadata": {
    "editable": true
   },
   "source": [
    "### model Dimension "
   ]
  },
  {
   "cell_type": "code",
   "execution_count": 3,
   "metadata": {
    "editable": true
   },
   "outputs": [
    {
     "data": {
      "text/html": [
       "<div>\n",
       "<style scoped>\n",
       "    .dataframe tbody tr th:only-of-type {\n",
       "        vertical-align: middle;\n",
       "    }\n",
       "\n",
       "    .dataframe tbody tr th {\n",
       "        vertical-align: top;\n",
       "    }\n",
       "\n",
       "    .dataframe thead th {\n",
       "        text-align: right;\n",
       "    }\n",
       "</style>\n",
       "<table border=\"1\" class=\"dataframe\">\n",
       "  <thead>\n",
       "    <tr style=\"text-align: right;\">\n",
       "      <th></th>\n",
       "      <th>cols</th>\n",
       "      <th>Descrption</th>\n",
       "    </tr>\n",
       "  </thead>\n",
       "  <tbody>\n",
       "    <tr>\n",
       "      <th>0</th>\n",
       "      <td>model_id</td>\n",
       "      <td>Primary Key</td>\n",
       "    </tr>\n",
       "    <tr>\n",
       "      <th>1</th>\n",
       "      <td>Model</td>\n",
       "      <td>Model Category consist of 4 values Air Sea Lan...</td>\n",
       "    </tr>\n",
       "  </tbody>\n",
       "</table>\n",
       "</div>"
      ],
      "text/plain": [
       "       cols                                         Descrption\n",
       "0  model_id                                        Primary Key\n",
       "1     Model  Model Category consist of 4 values Air Sea Lan..."
      ]
     },
     "execution_count": 3,
     "metadata": {},
     "output_type": "execute_result"
    }
   ],
   "source": [
    "Model_dimm=pd.DataFrame({\"cols\":[\"model_id\",\"Model\"],\n",
    "                         \"Descrption\":[\"Primary Key\",\"Model Category consist of 4 values Air Sea Land Not reported\"\n",
    "]})\n",
    "Model_dimm"
   ]
  },
  {
   "cell_type": "markdown",
   "metadata": {
    "editable": true
   },
   "source": [
    "### State Dimension "
   ]
  },
  {
   "cell_type": "code",
   "execution_count": 3,
   "metadata": {
    "editable": true
   },
   "outputs": [
    {
     "data": {
      "text/html": [
       "<div>\n",
       "<style scoped>\n",
       "    .dataframe tbody tr th:only-of-type {\n",
       "        vertical-align: middle;\n",
       "    }\n",
       "\n",
       "    .dataframe tbody tr th {\n",
       "        vertical-align: top;\n",
       "    }\n",
       "\n",
       "    .dataframe thead th {\n",
       "        text-align: right;\n",
       "    }\n",
       "</style>\n",
       "<table border=\"1\" class=\"dataframe\">\n",
       "  <thead>\n",
       "    <tr style=\"text-align: right;\">\n",
       "      <th></th>\n",
       "      <th>cols</th>\n",
       "      <th>Descrption</th>\n",
       "    </tr>\n",
       "  </thead>\n",
       "  <tbody>\n",
       "    <tr>\n",
       "      <th>0</th>\n",
       "      <td>State_code</td>\n",
       "      <td>Primary Key</td>\n",
       "    </tr>\n",
       "    <tr>\n",
       "      <th>1</th>\n",
       "      <td>City</td>\n",
       "      <td>City Name</td>\n",
       "    </tr>\n",
       "    <tr>\n",
       "      <th>2</th>\n",
       "      <td>State</td>\n",
       "      <td>State in US</td>\n",
       "    </tr>\n",
       "    <tr>\n",
       "      <th>3</th>\n",
       "      <td>Race</td>\n",
       "      <td>The Race of Person White , latin etc</td>\n",
       "    </tr>\n",
       "  </tbody>\n",
       "</table>\n",
       "</div>"
      ],
      "text/plain": [
       "         cols                            Descrption\n",
       "0  State_code                           Primary Key\n",
       "1        City                             City Name\n",
       "2       State                           State in US\n",
       "3        Race  The Race of Person White , latin etc"
      ]
     },
     "execution_count": 3,
     "metadata": {},
     "output_type": "execute_result"
    }
   ],
   "source": [
    "State_dict=pd.DataFrame({\"cols\":[\"State_code\",\"City\",\"State\",\"Race\"],\n",
    "                         \"Descrption\":[\"Primary Key\",\"City Name\",\"State in US\",\"The Race of Person White , latin etc\",\n",
    "]})\n",
    "State_dict"
   ]
  },
  {
   "cell_type": "markdown",
   "metadata": {
    "editable": true
   },
   "source": [
    "### Visa Dimension"
   ]
  },
  {
   "cell_type": "code",
   "execution_count": 6,
   "metadata": {
    "editable": true
   },
   "outputs": [
    {
     "data": {
      "text/html": [
       "<div>\n",
       "<style scoped>\n",
       "    .dataframe tbody tr th:only-of-type {\n",
       "        vertical-align: middle;\n",
       "    }\n",
       "\n",
       "    .dataframe tbody tr th {\n",
       "        vertical-align: top;\n",
       "    }\n",
       "\n",
       "    .dataframe thead th {\n",
       "        text-align: right;\n",
       "    }\n",
       "</style>\n",
       "<table border=\"1\" class=\"dataframe\">\n",
       "  <thead>\n",
       "    <tr style=\"text-align: right;\">\n",
       "      <th></th>\n",
       "      <th>cols</th>\n",
       "      <th>Descrption</th>\n",
       "    </tr>\n",
       "  </thead>\n",
       "  <tbody>\n",
       "    <tr>\n",
       "      <th>0</th>\n",
       "      <td>Visa_id</td>\n",
       "      <td>Primary Key</td>\n",
       "    </tr>\n",
       "    <tr>\n",
       "      <th>1</th>\n",
       "      <td>visa_type</td>\n",
       "      <td>Type of Visa like Business ,Pleasure, Student</td>\n",
       "    </tr>\n",
       "    <tr>\n",
       "      <th>2</th>\n",
       "      <td>visa_post</td>\n",
       "      <td>Department of Statewhere Visa was issued</td>\n",
       "    </tr>\n",
       "  </tbody>\n",
       "</table>\n",
       "</div>"
      ],
      "text/plain": [
       "        cols                                     Descrption\n",
       "0    Visa_id                                    Primary Key\n",
       "1  visa_type  Type of Visa like Business ,Pleasure, Student\n",
       "2  visa_post       Department of Statewhere Visa was issued"
      ]
     },
     "execution_count": 6,
     "metadata": {},
     "output_type": "execute_result"
    }
   ],
   "source": [
    "Visa_dict=pd.DataFrame({\"cols\":[\"Visa_id\",\"visa_type\",\"visa_post\"],\n",
    "                         \"Descrption\":[\"Primary Key\",\"Type of Visa like Business ,Pleasure, Student\"\n",
    "                                       ,\"Department of Statewhere Visa was issued\"\n",
    "]})\n",
    "Visa_dict"
   ]
  },
  {
   "cell_type": "markdown",
   "metadata": {
    "editable": true
   },
   "source": [
    "### Person Dimension "
   ]
  },
  {
   "cell_type": "code",
   "execution_count": 7,
   "metadata": {
    "editable": true
   },
   "outputs": [
    {
     "data": {
      "text/html": [
       "<div>\n",
       "<style scoped>\n",
       "    .dataframe tbody tr th:only-of-type {\n",
       "        vertical-align: middle;\n",
       "    }\n",
       "\n",
       "    .dataframe tbody tr th {\n",
       "        vertical-align: top;\n",
       "    }\n",
       "\n",
       "    .dataframe thead th {\n",
       "        text-align: right;\n",
       "    }\n",
       "</style>\n",
       "<table border=\"1\" class=\"dataframe\">\n",
       "  <thead>\n",
       "    <tr style=\"text-align: right;\">\n",
       "      <th></th>\n",
       "      <th>cols</th>\n",
       "      <th>Descrption</th>\n",
       "    </tr>\n",
       "  </thead>\n",
       "  <tbody>\n",
       "    <tr>\n",
       "      <th>0</th>\n",
       "      <td>person_id</td>\n",
       "      <td>Primary Key</td>\n",
       "    </tr>\n",
       "    <tr>\n",
       "      <th>1</th>\n",
       "      <td>gender</td>\n",
       "      <td>gender of person male ,female ,etc</td>\n",
       "    </tr>\n",
       "    <tr>\n",
       "      <th>2</th>\n",
       "      <td>BirthYear</td>\n",
       "      <td>the year of person birth</td>\n",
       "    </tr>\n",
       "  </tbody>\n",
       "</table>\n",
       "</div>"
      ],
      "text/plain": [
       "        cols                          Descrption\n",
       "0  person_id                         Primary Key\n",
       "1     gender  gender of person male ,female ,etc\n",
       "2  BirthYear            the year of person birth"
      ]
     },
     "execution_count": 7,
     "metadata": {},
     "output_type": "execute_result"
    }
   ],
   "source": [
    "person_dict=pd.DataFrame({\"cols\":[\"person_id\",\"gender\",\"BirthYear\"],\n",
    "                         \"Descrption\":[\"Primary Key\",\"gender of person male ,female ,etc\"\n",
    "                                       ,\"the year of person birth\"\n",
    "]})\n",
    "person_dict"
   ]
  },
  {
   "cell_type": "markdown",
   "metadata": {
    "editable": true
   },
   "source": [
    "### pops Dimension"
   ]
  },
  {
   "cell_type": "code",
   "execution_count": 9,
   "metadata": {
    "editable": true
   },
   "outputs": [
    {
     "data": {
      "text/html": [
       "<div>\n",
       "<style scoped>\n",
       "    .dataframe tbody tr th:only-of-type {\n",
       "        vertical-align: middle;\n",
       "    }\n",
       "\n",
       "    .dataframe tbody tr th {\n",
       "        vertical-align: top;\n",
       "    }\n",
       "\n",
       "    .dataframe thead th {\n",
       "        text-align: right;\n",
       "    }\n",
       "</style>\n",
       "<table border=\"1\" class=\"dataframe\">\n",
       "  <thead>\n",
       "    <tr style=\"text-align: right;\">\n",
       "      <th></th>\n",
       "      <th>cols</th>\n",
       "      <th>Descrption</th>\n",
       "    </tr>\n",
       "  </thead>\n",
       "  <tbody>\n",
       "    <tr>\n",
       "      <th>0</th>\n",
       "      <td>State_code</td>\n",
       "      <td>Primary Key</td>\n",
       "    </tr>\n",
       "    <tr>\n",
       "      <th>1</th>\n",
       "      <td>Male_Pop</td>\n",
       "      <td>num of population for male</td>\n",
       "    </tr>\n",
       "    <tr>\n",
       "      <th>2</th>\n",
       "      <td>Female_Pop</td>\n",
       "      <td>num of population for female</td>\n",
       "    </tr>\n",
       "    <tr>\n",
       "      <th>3</th>\n",
       "      <td>Total_POp</td>\n",
       "      <td>total of population</td>\n",
       "    </tr>\n",
       "    <tr>\n",
       "      <th>4</th>\n",
       "      <td>Number_Vet</td>\n",
       "      <td>Number of Veterans</td>\n",
       "    </tr>\n",
       "    <tr>\n",
       "      <th>5</th>\n",
       "      <td>Forign_born</td>\n",
       "      <td>Number of Forign born</td>\n",
       "    </tr>\n",
       "    <tr>\n",
       "      <th>6</th>\n",
       "      <td>Avg_HS_Size</td>\n",
       "      <td>Average of Household Size</td>\n",
       "    </tr>\n",
       "  </tbody>\n",
       "</table>\n",
       "</div>"
      ],
      "text/plain": [
       "          cols                    Descrption\n",
       "0   State_code                   Primary Key\n",
       "1     Male_Pop    num of population for male\n",
       "2   Female_Pop  num of population for female\n",
       "3    Total_POp           total of population\n",
       "4   Number_Vet            Number of Veterans\n",
       "5  Forign_born         Number of Forign born\n",
       "6  Avg_HS_Size     Average of Household Size"
      ]
     },
     "execution_count": 9,
     "metadata": {},
     "output_type": "execute_result"
    }
   ],
   "source": [
    "pop_dict=pd.DataFrame({\"cols\":[\"State_code\",\"Male_Pop\",\"Female_Pop\",\"Total_POp\",\"Number_Vet\",\"Forign_born\",\"Avg_HS_Size\"],\n",
    "                         \"Descrption\":[\"Primary Key\",\"num of population for male\",\"num of population for female\",\"total of population\"\n",
    "                                       ,\"Number of Veterans\",\"Number of Forign born\",\"Average of Household Size\"\n",
    "]})\n",
    "pop_dict"
   ]
  },
  {
   "cell_type": "code",
   "execution_count": 16,
   "metadata": {
    "editable": true
   },
   "outputs": [
    {
     "data": {
      "text/html": [
       "<img src=\"Screenshot 2023-01-22 004921.png\" width=\"1000\" height=\"600\"/>"
      ],
      "text/plain": [
       "<IPython.core.display.Image object>"
      ]
     },
     "execution_count": 16,
     "metadata": {},
     "output_type": "execute_result"
    }
   ],
   "source": [
    "# import image module\n",
    "from IPython.display import Image\n",
    "  \n",
    "# get the image\n",
    "Image(url=\"Screenshot 2023-01-22 004921.png\", width=1000, height=600)"
   ]
  },
  {
   "cell_type": "markdown",
   "metadata": {
    "editable": true
   },
   "source": [
    "### Analysis Data "
   ]
  },
  {
   "cell_type": "code",
   "execution_count": null,
   "metadata": {
    "editable": true
   },
   "outputs": [],
   "source": []
  },
  {
   "cell_type": "markdown",
   "metadata": {
    "editable": true
   },
   "source": [
    "#### Step 5: Complete Project Write Up\n",
    "### * tools and technologies for the project.\n",
    "\n",
    "1-AWs Cloud(iam users,S3 Stoarge)\n",
    "\n",
    "2-python(pysaprk,pandas)\n",
    "\n",
    "### * the data should be updated and why.\n",
    "\n",
    " * The data was increased by 100x.\n",
    "   we can used EMR in AWS that provides managed scaling, and reconfiguring of clusters to handle that updated and size of data\n",
    "   you may run multiple clusters to deal with multiple users and/or applications.\n",
    " * The data populates a dashboard that must be updated on a daily basis by 7am every day.\n",
    "   we can used airflow to schedule dashboard daily\n",
    " * The database needed to be accessed by 100+ people.\n",
    "   we can load data and schema in data warehouse and other database server\n",
    "  "
   ]
  },
  {
   "cell_type": "code",
   "execution_count": 15,
   "metadata": {
    "editable": true
   },
   "outputs": [],
   "source": [
    "fact_table.createOrReplaceTempView('fact_table')\n",
    "airline_table.createOrReplaceTempView(\"airline_table\")\n",
    "person_table.createOrReplaceTempView(\"person_table\")\n",
    "state_table.createOrReplaceTempView(\"state_table\")"
   ]
  },
  {
   "cell_type": "markdown",
   "metadata": {
    "editable": true
   },
   "source": [
    "### most gender  of immigration person"
   ]
  },
  {
   "cell_type": "code",
   "execution_count": 16,
   "metadata": {
    "editable": true
   },
   "outputs": [],
   "source": [
    "sql_stm=spark.sql('''\n",
    "select p.gender,count(p.gender) gender_count\n",
    "\n",
    "from fact_table f\n",
    "\n",
    "inner join\n",
    "\n",
    "person_table p\n",
    "\n",
    "on f.person_id=p.person_id\n",
    "group by  p.gender\n",
    "\n",
    "\n",
    "''')\n",
    "\n",
    "\n"
   ]
  },
  {
   "cell_type": "code",
   "execution_count": 19,
   "metadata": {
    "editable": true
   },
   "outputs": [
    {
     "name": "stdout",
     "output_type": "stream",
     "text": [
      "+------+------------+\n",
      "|gender|gender_count|\n",
      "+------+------------+\n",
      "|     F|       36656|\n",
      "|     M|       33280|\n",
      "|     X|         928|\n",
      "+------+------------+\n",
      "\n"
     ]
    }
   ],
   "source": [
    "sql_stm.show()"
   ]
  },
  {
   "cell_type": "markdown",
   "metadata": {
    "editable": true
   },
   "source": [
    "### the Top  of immigration  for each State"
   ]
  },
  {
   "cell_type": "code",
   "execution_count": 27,
   "metadata": {
    "editable": true
   },
   "outputs": [],
   "source": [
    "\n",
    "sql_stm1=spark.sql('''\n",
    "select s.State,count(*) state_count\n",
    "\n",
    "from fact_table f\n",
    "\n",
    "inner join\n",
    "\n",
    "state_table s\n",
    "\n",
    "on f.state_code=s.state_code\n",
    "\n",
    "group by  s.State\n",
    "\n",
    "order by state_count desc\n",
    "\n",
    "limit 10\n",
    "\n",
    "\n",
    "''')"
   ]
  },
  {
   "cell_type": "code",
   "execution_count": 28,
   "metadata": {
    "editable": true
   },
   "outputs": [
    {
     "name": "stdout",
     "output_type": "stream",
     "text": [
      "+-------------+-----------+\n",
      "|        State|state_count|\n",
      "+-------------+-----------+\n",
      "|   California|     104104|\n",
      "|      Florida|      39960|\n",
      "|        Texas|      10374|\n",
      "|     New York|       8262|\n",
      "|     Illinois|       2366|\n",
      "|Massachusetts|       1656|\n",
      "|       Nevada|       1530|\n",
      "|   Washington|       1190|\n",
      "|      Georgia|       1045|\n",
      "|   New Jersey|        969|\n",
      "+-------------+-----------+\n",
      "\n"
     ]
    }
   ],
   "source": [
    "sql_stm1.show()"
   ]
  },
  {
   "cell_type": "code",
   "execution_count": 34,
   "metadata": {
    "editable": true
   },
   "outputs": [],
   "source": [
    "df=sql_stm1.toPandas()"
   ]
  },
  {
   "cell_type": "code",
   "execution_count": 32,
   "metadata": {
    "editable": true
   },
   "outputs": [],
   "source": [
    "import seaborn as sns\n",
    "import matplotlib.pyplot as plt"
   ]
  },
  {
   "cell_type": "code",
   "execution_count": 37,
   "metadata": {
    "editable": true
   },
   "outputs": [
    {
     "data": {
      "image/png": "[encoded data removed]",
      "text/plain": [
       "<matplotlib.figure.Figure at 0x7f37b6313860>"
      ]
     },
     "metadata": {
      "needs_background": "light"
     },
     "output_type": "display_data"
    }
   ],
   "source": [
    "#bar chart for immigration count\n",
    "sns.barplot(x='State',y='state_count',data=df)\n",
    "plt.xticks(rotation=90)\n",
    "plt.title(\"Immgiration Counts per State\")\n",
    "plt.show()"
   ]
  },
  {
   "cell_type": "code",
   "execution_count": null,
   "metadata": {
    "editable": true
   },
   "outputs": [],
   "source": []
  }
 ],
 "metadata": {
  "kernelspec": {
   "display_name": "Python 3",
   "language": "python",
   "name": "python3"
  },
  "language_info": {
   "codemirror_mode": {
    "name": "ipython",
    "version": 3
   },
   "file_extension": ".py",
   "mimetype": "text/x-python",
   "name": "python",
   "nbconvert_exporter": "python",
   "pygments_lexer": "ipython3",
   "version": "3.6.3"
  }
 },
 "nbformat": 4,
 "nbformat_minor": 4
}
